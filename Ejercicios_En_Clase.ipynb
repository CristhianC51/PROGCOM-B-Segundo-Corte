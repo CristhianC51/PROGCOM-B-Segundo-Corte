{
  "nbformat": 4,
  "nbformat_minor": 0,
  "metadata": {
    "colab": {
      "provenance": []
    },
    "kernelspec": {
      "name": "python3",
      "display_name": "Python 3"
    },
    "language_info": {
      "name": "python"
    }
  },
  "cells": [
    {
      "cell_type": "markdown",
      "source": [
        "#Taller Clase 30/09/2022"
      ],
      "metadata": {
        "id": "mgxOw7W4S8Gc"
      }
    },
    {
      "cell_type": "markdown",
      "source": [
        "##Ejercicio 1"
      ],
      "metadata": {
        "id": "kZIdhm_MS6hF"
      }
    },
    {
      "cell_type": "code",
      "execution_count": 14,
      "metadata": {
        "colab": {
          "base_uri": "https://localhost:8080/"
        },
        "id": "28gTF4e1My8O",
        "outputId": "247b4b4d-a1e2-4345-fe9e-56c5459acdbd"
      },
      "outputs": [
        {
          "output_type": "stream",
          "name": "stdout",
          "text": [
            "Mi edad es de  17\n",
            "La edad de mi amigo es  21\n"
          ]
        }
      ],
      "source": [
        "def calcularEdad (aActual, aDeNacimiento):\n",
        "    edad = aActual - aDeNacimiento\n",
        "    return edad\n",
        "\n",
        "miEdad=calcularEdad(2022,2005)\n",
        "print(\"Mi edad es de \", miEdad)\n",
        "edadDeMiAmigo=calcularEdad(2022,2001)\n",
        "print(\"La edad de mi amigo es \", edadDeMiAmigo)"
      ]
    },
    {
      "cell_type": "markdown",
      "source": [
        "##Ejercicio 2"
      ],
      "metadata": {
        "id": "FixxY7epS_2b"
      }
    },
    {
      "cell_type": "code",
      "source": [
        "def informacionPersonal ():\n",
        "    name = \"Juana de Arco\"\n",
        "    age = 19\n",
        "    country = \"Francia\"\n",
        "    return name, age, country\n",
        "\n",
        "(name, age, country)=informacionPersonal()\n",
        "print (name + \", de \" + country + \", tiene \" + str(age) + \" años de edad.\")\n"
      ],
      "metadata": {
        "colab": {
          "base_uri": "https://localhost:8080/"
        },
        "id": "ZuYpATKVNmpL",
        "outputId": "0d84319d-19b5-4806-cac8-1f869f7af198"
      },
      "execution_count": 30,
      "outputs": [
        {
          "output_type": "stream",
          "name": "stdout",
          "text": [
            "Juana de Arco, de Francia, tiene 19 años de edad.\n"
          ]
        }
      ]
    }
  ]
}