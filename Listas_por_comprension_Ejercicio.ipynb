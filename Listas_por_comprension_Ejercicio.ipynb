{
  "nbformat": 4,
  "nbformat_minor": 0,
  "metadata": {
    "colab": {
      "provenance": [],
      "collapsed_sections": []
    },
    "kernelspec": {
      "name": "python3",
      "display_name": "Python 3"
    },
    "language_info": {
      "name": "python"
    }
  },
  "cells": [
    {
      "cell_type": "code",
      "source": [
        "#Compresion Cristhian Caballero\n",
        "lista=[]\n",
        "x = 0\n",
        "while x==0:\n",
        "  entrada = input(\"Ingresa un codigo\")\n",
        "  lista.append(entrada)\n",
        "  a=int(input(\"¿Deseas ingresa otro?, Ingresa 0 si lo deseas, sino ingresa 1\"))\n",
        "  if (a==1):\n",
        "    x=x+1\n",
        "\n",
        "clasificacion = [a for a in lista if a.startswith(\"U00\") or a.startswith(min) and len(a)==9]\n",
        "print(f'Hay {len(clasificacion)} estudiante(s) de la Unab y sus codigo(s) son {clasificacion}')\n",
        "\n",
        "clasificacion = [a for a in lista if a.startswith(\"A000\") or a.startswith(min) and len(a)==9]\n",
        "print(f'Hay {len(clasificacion)} estudiante(s) de los Andes y sus codigo(s) son {clasificacion}')"
      ],
      "metadata": {
        "colab": {
          "base_uri": "https://localhost:8080/"
        },
        "id": "_ZFWfdBtW8-a",
        "outputId": "fd8b9df1-957b-40eb-b9ed-7851788e5db7"
      },
      "execution_count": null,
      "outputs": [
        {
          "output_type": "stream",
          "name": "stdout",
          "text": [
            "Ingresa un codigoU02938490\n",
            "¿Deseas ingresa otro?, Ingresa 0 si lo deseas, sino ingresa 10\n",
            "Ingresa un codigoa000456\n",
            "¿Deseas ingresa otro?, Ingresa 0 si lo deseas, sino ingresa 11\n",
            "Hay 0 estudiante(s) de la Unab y sus codigo(s) son []\n",
            "Hay 0 estudiante(s) de los Andes y sus codigo(s) son []\n"
          ]
        }
      ]
    },
    {
      "cell_type": "code",
      "source": [
        "#Tradicional \n",
        "def funcion(lista, numDigitos, Universidad,clasCodigo, min):\n",
        "  clasificacion = [a for a in lista if a.startswith(clasCodigo) or a.startswith(min) and len(a)==numDigitos]\n",
        "  print(f'Hay {len(clasificacion)} estudiante(s) de {Universidad} y sus codigo(s) son {clasificacion}')\n",
        "\n",
        "lista=[]\n",
        "x = 0\n",
        "while x==0:\n",
        "  entrada = input(\"Ingresa un codigo\")\n",
        "  lista.append(entrada)\n",
        "  a=int(input(\"¿Deseas ingresa otro?, Ingresa 0 si lo deseas, sino ingresa 1\"))\n",
        "  if (a==1):\n",
        "    x=x+1\n",
        "\n",
        "funcion(lista,9,'la Unab','U00', 'u00')\n",
        "funcion(lista,9,'los Andes','A000', 'a000')"
      ],
      "metadata": {
        "colab": {
          "base_uri": "https://localhost:8080/"
        },
        "id": "zySlOZygvTNI",
        "outputId": "f2144926-f99a-484a-d44d-972d7abf9c93"
      },
      "execution_count": null,
      "outputs": [
        {
          "output_type": "stream",
          "name": "stdout",
          "text": [
            "Ingresa un codigoU00158478\n",
            "¿Deseas ingresa otro?, Ingresa 0 si lo deseas, sino ingresa 10\n",
            "Ingresa un codigou00115847\n",
            "¿Deseas ingresa otro?, Ingresa 0 si lo deseas, sino ingresa 10\n",
            "Ingresa un codigoA00015847\n",
            "¿Deseas ingresa otro?, Ingresa 0 si lo deseas, sino ingresa 11\n",
            "Hay 2 estudiante(s) de la Unab y sus codigo(s) son ['U00158478', 'u00115847']\n",
            "Hay 1 estudiante(s) de los Andes y sus codigo(s) son ['A00015847']\n"
          ]
        }
      ]
    },
    {
      "cell_type": "code",
      "source": [
        "#lambda\n",
        "lista=[]\n",
        "x = 0\n",
        "while x==0:\n",
        "  entrada = input(\"Ingresa un codigo\")\n",
        "  lista.append(entrada)\n",
        "  a=int(input(\"¿Deseas ingresa otro?, Ingresa 0 si lo deseas, sino ingresa 1\"))\n",
        "  if (a==1):\n",
        "    x=x+1\n",
        "lista1=[\"u00013246\",\"a001234643\",\"U00156837\"]\n",
        "clasificacion = list(map(lambda a:\"UNAB\" if a.startswith(\"U00\") or a.startswith(\"u00\")  else 'Los Andes' if a.startswith(\"A000\") or a.startswith(\"a000\") else None ,lista))\n",
        "clasificacion"
      ],
      "metadata": {
        "colab": {
          "base_uri": "https://localhost:8080/"
        },
        "id": "znob2NgVWp3J",
        "outputId": "2ac76eae-c109-435e-b443-0a0867376ae1"
      },
      "execution_count": null,
      "outputs": [
        {
          "name": "stdout",
          "output_type": "stream",
          "text": [
            "Ingresa un codigoa001234643\n",
            "¿Deseas ingresa otro?, Ingresa 0 si lo deseas, sino ingresa 10\n",
            "Ingresa un codigou00013246\n",
            "¿Deseas ingresa otro?, Ingresa 0 si lo deseas, sino ingresa 10\n",
            "Ingresa un codigoU00156837\n",
            "¿Deseas ingresa otro?, Ingresa 0 si lo deseas, sino ingresa 11\n"
          ]
        },
        {
          "output_type": "execute_result",
          "data": {
            "text/plain": [
              "[None, 'UNAB', 'UNAB']"
            ]
          },
          "metadata": {},
          "execution_count": 9
        }
      ]
    },
    {
      "cell_type": "code",
      "source": [
        "lista1=[\"u00013246\",\"a001234643\",\"U00156837\"]\n",
        "clasificacion = list(map(lambda a:print(f'Hay {len(clasificacion)} estudiante(s) de la Unab') if a.startswith(\"U00\") or a.startswith(\"u00\")  else print(f'Hay {len(clasificacion)} estudiante(s) de los Andes') if a.startswith(\"A000\") else None ,lista1))\n"
      ],
      "metadata": {
        "id": "PyOQkUEZr7A1",
        "outputId": "e771fa48-5eca-4336-95d2-7fc1e48b98be",
        "colab": {
          "base_uri": "https://localhost:8080/"
        }
      },
      "execution_count": null,
      "outputs": [
        {
          "output_type": "stream",
          "name": "stdout",
          "text": [
            "Hay 3 estudiante(s) de la Unab\n",
            "Hay 3 estudiante(s) de la Unab\n"
          ]
        }
      ]
    }
  ]
}