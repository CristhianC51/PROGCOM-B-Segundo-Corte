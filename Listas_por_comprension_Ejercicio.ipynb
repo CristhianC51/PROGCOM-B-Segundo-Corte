{
  "nbformat": 4,
  "nbformat_minor": 0,
  "metadata": {
    "colab": {
      "provenance": []
    },
    "kernelspec": {
      "name": "python3",
      "display_name": "Python 3"
    },
    "language_info": {
      "name": "python"
    }
  },
  "cells": [
    {
      "cell_type": "code",
      "execution_count": 1,
      "metadata": {
        "colab": {
          "base_uri": "https://localhost:8080/"
        },
        "id": "lwG9FeJv0FAQ",
        "outputId": "67745987-6481-4030-beec-831a979153c4"
      },
      "outputs": [
        {
          "output_type": "stream",
          "name": "stdout",
          "text": [
            "Ingrese cuantos codigos ingresaras :)6\n",
            "Ingresa un codigoU00158478\n",
            "Ingresa un codigoA00015847\n",
            "Ingresa un codigoU0015847854\n",
            "Ingresa un codigoU00158479\n",
            "Ingresa un codigoA00015848\n",
            "Ingresa un codigoA0001584878\n",
            "Hay 2 estudiante(s) de la Unab y sus codigo(s) son ['U00158478', 'U00158479']\n",
            "Hay 2 estudiante(s) de los Andes y sus codigo(s) son ['A00015847', 'A00015848']\n"
          ]
        }
      ],
      "source": [
        "def funcion(lista, numDigitos, Universidad,clasCodigo):\n",
        "  clasificacion = [a for a in lista if a.startswith(clasCodigo) and len(a)==numDigitos]\n",
        "  print(f'Hay {len(clasificacion)} estudiante(s) de {Universidad} y sus codigo(s) son {clasificacion}')\n",
        "\n",
        "numV = int(input(\"Ingrese cuantos codigos ingresaras :)\"))\n",
        "lista=[]\n",
        "for i in range(0,numV):\n",
        "  entrada = input(\"Ingresa un codigo\")\n",
        "  lista.append(entrada)\n",
        "\n",
        "funcion(lista,9,'la Unab','U00')\n",
        "funcion(lista,9,'los Andes','A000')"
      ]
    }
  ]
}