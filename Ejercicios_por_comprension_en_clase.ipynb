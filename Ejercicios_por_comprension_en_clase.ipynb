{
  "nbformat": 4,
  "nbformat_minor": 0,
  "metadata": {
    "colab": {
      "provenance": []
    },
    "kernelspec": {
      "name": "python3",
      "display_name": "Python 3"
    },
    "language_info": {
      "name": "python"
    }
  },
  "cells": [
    {
      "cell_type": "markdown",
      "source": [
        "#Pares e impares \n"
      ],
      "metadata": {
        "id": "4F_HiS-Km89U"
      }
    },
    {
      "cell_type": "markdown",
      "source": [
        "##Ejemplo de Samuel"
      ],
      "metadata": {
        "id": "8RWDYdnMp-Wi"
      }
    },
    {
      "cell_type": "code",
      "execution_count": 4,
      "metadata": {
        "colab": {
          "base_uri": "https://localhost:8080/"
        },
        "id": "sNZANi5Nma68",
        "outputId": "ff90d6a0-4804-4ca9-98e4-4c17755f26df"
      },
      "outputs": [
        {
          "name": "stdout",
          "output_type": "stream",
          "text": [
            "Hasta que numero quieres imprimir los pares e impares2\n"
          ]
        },
        {
          "output_type": "execute_result",
          "data": {
            "text/plain": [
              "[1]"
            ]
          },
          "metadata": {},
          "execution_count": 4
        }
      ],
      "source": [
        "#Comprensión\n",
        "n=int(input(\"Hasta que numero quieres imprimir los pares e impares\"))\n",
        "pares = [numero for numero in range(0,n+1) if numero%2==0]\n",
        "pares\n",
        "impares=[numero for numero in range(0,n+1) if numero%2!=0]\n",
        "impares"
      ]
    },
    {
      "cell_type": "code",
      "source": [
        "#Tradicional con def\n",
        "num=int(input(\"Hasta que numero quieres imprimir los pares e impares\"))\n",
        "def hola(n):\n",
        "  pares = [numero for numero in range(0,n+1) if numero%2==0]\n",
        "  pares\n",
        "  impares=[numero for numero in range(0,n+1) if numero%2!=0]\n",
        "  impares\n",
        "hola(num)"
      ],
      "metadata": {
        "colab": {
          "base_uri": "https://localhost:8080/"
        },
        "id": "owYkghjunB3z",
        "outputId": "97a9772d-5e9d-4c3b-c137-62a0b072d077"
      },
      "execution_count": 2,
      "outputs": [
        {
          "name": "stdout",
          "output_type": "stream",
          "text": [
            "Hasta que numero quieres imprimir los pares e impares2\n"
          ]
        }
      ]
    },
    {
      "cell_type": "code",
      "source": [
        "#Con lambda y filter\n",
        "num=int(input(\"Hasta que numero quieres imprimir los pares e impares\"))\n",
        "mi_lista = [n for n in range(0,num+1)]\n",
        "pares = list(filter(lambda num:num%2==0, mi_lista))\n",
        "pares\n",
        "impares = list(filter(lambda num:num%2!=0, mi_lista))\n",
        "impares"
      ],
      "metadata": {
        "colab": {
          "base_uri": "https://localhost:8080/"
        },
        "id": "J-Fx7KL7nWdi",
        "outputId": "e6e61755-12fa-426f-ff2c-fbf604900f88"
      },
      "execution_count": 3,
      "outputs": [
        {
          "name": "stdout",
          "output_type": "stream",
          "text": [
            "Hasta que numero quieres imprimir los pares e impares3\n"
          ]
        },
        {
          "output_type": "execute_result",
          "data": {
            "text/plain": [
              "[1, 3]"
            ]
          },
          "metadata": {},
          "execution_count": 3
        }
      ]
    },
    {
      "cell_type": "markdown",
      "source": [
        "##Ejemplo de Jhonsito"
      ],
      "metadata": {
        "id": "yegNyuzJoF6b"
      }
    },
    {
      "cell_type": "code",
      "source": [
        "#Tradicional\n",
        "def perfecto(numero):\n",
        "  perf=0\n",
        "  for i in range(1,numero):\n",
        "    if numero%i==0:\n",
        "      perf+=i\n",
        "  if perf==numero:\n",
        "    print(\"Es un numero perfecto\")\n",
        "    return True\n",
        "  else:\n",
        "    print(\"No es un numero perfecto\")\n",
        "numero = 6\n",
        "perfecto(numero)"
      ],
      "metadata": {
        "colab": {
          "base_uri": "https://localhost:8080/"
        },
        "id": "y-6r3sekodsF",
        "outputId": "92caf7d8-14e8-4c8d-bf7b-7fba92f8b9cc"
      },
      "execution_count": 10,
      "outputs": [
        {
          "output_type": "stream",
          "name": "stdout",
          "text": [
            "Es un numero perfecto\n"
          ]
        },
        {
          "output_type": "execute_result",
          "data": {
            "text/plain": [
              "True"
            ]
          },
          "metadata": {},
          "execution_count": 10
        }
      ]
    },
    {
      "cell_type": "code",
      "source": [
        "#Comprensión\n",
        "def numeros():\n",
        "  a = int(input(\"Ingresa un numero\"))\n",
        "  b = int(input(\"Ingresa un numero\"))\n",
        "  c = int(input(\"Ingresa un numero\"))\n",
        "  d = int(input(\"Ingresa un numero\"))\n",
        "  perfect=[a,b,c,d]\n",
        "\n",
        "  perfect1=[elemento for elemento in perfect if perfecto(elemento)==True]\n",
        "numeros()"
      ],
      "metadata": {
        "colab": {
          "base_uri": "https://localhost:8080/"
        },
        "id": "0jz0lAuHo8dM",
        "outputId": "8dd828bc-b588-491e-f5e2-04f1a74000ab"
      },
      "execution_count": 8,
      "outputs": [
        {
          "output_type": "stream",
          "name": "stdout",
          "text": [
            "Ingresa un numero2\n",
            "Ingresa un numero4\n",
            "Ingresa un numero5\n",
            "Ingresa un numero6\n",
            "No es un numero perfecto\n",
            "No es un numero perfecto\n",
            "No es un numero perfecto\n",
            "Es un numero perfecto\n"
          ]
        }
      ]
    },
    {
      "cell_type": "code",
      "source": [
        "#Con lambda y map\n",
        "lista = [2,3,6,4]\n",
        "perfect2 = list(map(lambda elemento:perfecto(elemento)==True,lista))\n",
        "perfect2"
      ],
      "metadata": {
        "colab": {
          "base_uri": "https://localhost:8080/"
        },
        "id": "rC9Wd8Erpi1F",
        "outputId": "d10b911c-bb73-4108-a7cd-70220182c913"
      },
      "execution_count": 9,
      "outputs": [
        {
          "output_type": "stream",
          "name": "stdout",
          "text": [
            "No es un numero perfecto\n",
            "No es un numero perfecto\n",
            "Es un numero perfecto\n",
            "No es un numero perfecto\n"
          ]
        },
        {
          "output_type": "execute_result",
          "data": {
            "text/plain": [
              "[False, False, True, False]"
            ]
          },
          "metadata": {},
          "execution_count": 9
        }
      ]
    },
    {
      "cell_type": "markdown",
      "source": [
        "##Ejemplo Juan David\n"
      ],
      "metadata": {
        "id": "FI0HQs6Yp7Tz"
      }
    },
    {
      "cell_type": "code",
      "source": [
        "import random \n",
        "#metodo clasico\n",
        "numero1 = [random.randint(0,2000) for x in range(100)]\n",
        "numero2 = [random.randint(0,2000) for x in range(100)]\n",
        "comun = []\n",
        "for a in numero1:\n",
        "  for b in numero2:\n",
        "    if a == b:\n",
        "      comun.append(a)\n",
        "print(comun)"
      ],
      "metadata": {
        "colab": {
          "base_uri": "https://localhost:8080/"
        },
        "id": "JaSoWgsuqFmi",
        "outputId": "599829dd-af2e-4f3e-fddf-8ce8916c49e4"
      },
      "execution_count": 13,
      "outputs": [
        {
          "output_type": "stream",
          "name": "stdout",
          "text": [
            "[1817, 746, 1241, 1824, 1178, 1086, 1105]\n"
          ]
        }
      ]
    },
    {
      "cell_type": "code",
      "source": [
        "import random\n",
        "#lambda y filter\n",
        "numero1 = [random.randint(0,2000) for x in range(100)]\n",
        "numero2 = [random.randint(0,2000) for x in range(100)]\n",
        "comun = []\n",
        "comun = list(filter(lambda num: num in numero1, numero2))\n",
        "print(comun)"
      ],
      "metadata": {
        "colab": {
          "base_uri": "https://localhost:8080/"
        },
        "id": "wO4HC-zOqkKm",
        "outputId": "8154cd51-6862-456f-9521-5a1f41e1017b"
      },
      "execution_count": 14,
      "outputs": [
        {
          "output_type": "stream",
          "name": "stdout",
          "text": [
            "[1261, 1357, 988, 1150, 1810]\n"
          ]
        }
      ]
    }
  ]
}