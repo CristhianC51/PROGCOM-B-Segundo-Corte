{
  "nbformat": 4,
  "nbformat_minor": 0,
  "metadata": {
    "colab": {
      "provenance": []
    },
    "kernelspec": {
      "name": "python3",
      "display_name": "Python 3"
    },
    "language_info": {
      "name": "python"
    }
  },
  "cells": [
    {
      "cell_type": "markdown",
      "source": [
        "#Ejercicios"
      ],
      "metadata": {
        "id": "0z5SnA2kZdCU"
      }
    },
    {
      "cell_type": "markdown",
      "source": [
        "##Ejercicio 1"
      ],
      "metadata": {
        "id": "fnA9TdkuZecD"
      }
    },
    {
      "cell_type": "code",
      "execution_count": 4,
      "metadata": {
        "colab": {
          "base_uri": "https://localhost:8080/"
        },
        "id": "fWco3CniYTkk",
        "outputId": "53063590-bc7f-4367-c391-56e80ca546da"
      },
      "outputs": [
        {
          "output_type": "stream",
          "name": "stdout",
          "text": [
            "Ingresa el primer numero2\n",
            "Ingresa el segundo numero2\n",
            "Ambos numeros son iguales\n"
          ]
        }
      ],
      "source": [
        "def funcion(n1,n2):\n",
        "  if n1>n2:\n",
        "    print(f'El numero mayor es {n1}')\n",
        "  elif(n1<n2):\n",
        "    print(f'El numero mayor es {n2}')\n",
        "  elif(n1==n2):\n",
        "    print(f'Ambos numeros son iguales')\n",
        "\n",
        "nu1 = int(input(\"Ingresa el primer numero\"))\n",
        "nu2 = int(input(\"Ingresa el segundo numero\"))\n",
        "funcion(nu1, nu2)"
      ]
    },
    {
      "cell_type": "markdown",
      "source": [
        "##Ejercicio 2"
      ],
      "metadata": {
        "id": "hTY1JyaOb0IZ"
      }
    },
    {
      "cell_type": "code",
      "source": [
        "def funcion(n1,n2, n3):\n",
        "  if (n1>n2 and n1>n3):\n",
        "    print(f'El numero mayor es {n1}')\n",
        "  elif(n2>n1 and n2>n3):\n",
        "    print(f'El numero mayor es {n2}')\n",
        "  elif(n3>n1 and n3>n2):\n",
        "    print(f'El numero mayor es {n3}')\n",
        "  elif(n1==n2==n3):\n",
        "    print(f'Los numeros son iguales')\n",
        "\n",
        "nu1 = int(input(\"Ingresa el primer numero\"))\n",
        "nu2 = int(input(\"Ingresa el segundo numero\"))\n",
        "nu3 = int(input(\"Ingresa el tercer numero\"))\n",
        "funcion(nu1, nu2, nu3)"
      ],
      "metadata": {
        "colab": {
          "base_uri": "https://localhost:8080/"
        },
        "id": "_5vNA-Jxb1iA",
        "outputId": "d7fad338-a92f-4ec5-c690-9d84f1e0db8d"
      },
      "execution_count": 10,
      "outputs": [
        {
          "output_type": "stream",
          "name": "stdout",
          "text": [
            "Ingresa el primer numero3\n",
            "Ingresa el segundo numero2\n",
            "Ingresa el tercer numero1\n",
            "El numero mayor es 3\n"
          ]
        }
      ]
    },
    {
      "cell_type": "markdown",
      "source": [
        "##Ejercicio 3"
      ],
      "metadata": {
        "id": "XbQoAVXYdONB"
      }
    },
    {
      "cell_type": "code",
      "source": [
        "numeros = [3,4,5]\n",
        "def funcion(lista):\n",
        "  a = numeros[0]\n",
        "  b = numeros[1]\n",
        "  c = numeros[2]\n",
        "  print(f'La suma de los numeros es {a+b+c}')\n",
        "\n",
        "funcion(numeros)"
      ],
      "metadata": {
        "colab": {
          "base_uri": "https://localhost:8080/"
        },
        "id": "faGvEZ1sdakn",
        "outputId": "be7c130b-c948-450c-c666-0d26540efafb"
      },
      "execution_count": 25,
      "outputs": [
        {
          "output_type": "stream",
          "name": "stdout",
          "text": [
            "La suma de los numeros es 12\n"
          ]
        }
      ]
    },
    {
      "cell_type": "markdown",
      "source": [
        "##Ejercicio 4"
      ],
      "metadata": {
        "id": "de318-WveCrt"
      }
    },
    {
      "cell_type": "code",
      "source": [
        "numeros = [3,4,5,6]\n",
        "def funcion(lista):\n",
        "  a = numeros[0]\n",
        "  b = numeros[1]\n",
        "  c = numeros[2]\n",
        "  d = numeros[3]\n",
        "  print(f'La suma de los numeros es {a+b+c+d}')\n",
        "\n",
        "funcion(numeros)"
      ],
      "metadata": {
        "colab": {
          "base_uri": "https://localhost:8080/"
        },
        "id": "m7CKamRtdPno",
        "outputId": "c146d0bc-6fc0-40be-ce08-00c3668202ed"
      },
      "execution_count": 24,
      "outputs": [
        {
          "output_type": "stream",
          "name": "stdout",
          "text": [
            "La suma de los numeros es 18\n"
          ]
        }
      ]
    },
    {
      "cell_type": "markdown",
      "source": [
        "##Ejercicio 5"
      ],
      "metadata": {
        "id": "Cmx019aseTFs"
      }
    },
    {
      "cell_type": "code",
      "source": [
        "numeros = [3,4,5,6,7,8]\n",
        "def funcion(lista):\n",
        "  a = numeros[0]\n",
        "  b = numeros[1]\n",
        "  c = numeros[2]\n",
        "  d = numeros[3]\n",
        "  e = numeros[4]\n",
        "  f = numeros[5]\n",
        "  print(f'La suma de los numeros es {a+b+c+d+e+f}')\n",
        "\n",
        "funcion(numeros)"
      ],
      "metadata": {
        "colab": {
          "base_uri": "https://localhost:8080/"
        },
        "id": "Ecz5WBU7eU2T",
        "outputId": "389c416f-12ac-4e43-d753-c12b4f68a7e6"
      },
      "execution_count": 23,
      "outputs": [
        {
          "output_type": "stream",
          "name": "stdout",
          "text": [
            "La suma de los numeros es 33\n"
          ]
        }
      ]
    },
    {
      "cell_type": "markdown",
      "source": [
        "##Ejercicio 6"
      ],
      "metadata": {
        "id": "3iGJ9SlYgWE9"
      }
    },
    {
      "cell_type": "code",
      "source": [
        "numeros = [0,4,5]\n",
        "def funcion(lista):\n",
        "  a = numeros[0]\n",
        "  b = numeros[1]\n",
        "  c = numeros[2]\n",
        "  print(f'La multiplicación de los numeros es {a*b*c}')\n",
        "\n",
        "funcion(numeros)"
      ],
      "metadata": {
        "colab": {
          "base_uri": "https://localhost:8080/"
        },
        "id": "iJE9PHjVgXW2",
        "outputId": "91e8f90d-6664-45b5-89f4-b51f0c762bfd"
      },
      "execution_count": 27,
      "outputs": [
        {
          "output_type": "stream",
          "name": "stdout",
          "text": [
            "La multiplicación de los numeros es 0\n"
          ]
        }
      ]
    },
    {
      "cell_type": "markdown",
      "source": [
        "##Ejercicio 7"
      ],
      "metadata": {
        "id": "gVhvvQ4pgsF1"
      }
    },
    {
      "cell_type": "code",
      "source": [
        "numeros = [3,4,5,1]\n",
        "def funcion(lista):\n",
        "  a = numeros[0]\n",
        "  b = numeros[1]\n",
        "  c = numeros[2]\n",
        "  d = numeros[3]\n",
        "  print(f'La multiplicación de los numeros es {a*b*c*d}')\n",
        "\n",
        "funcion(numeros)"
      ],
      "metadata": {
        "colab": {
          "base_uri": "https://localhost:8080/"
        },
        "id": "0gMMh-mRgta1",
        "outputId": "94ff1404-0f64-4c33-ebaa-4a6aefc11f00"
      },
      "execution_count": 29,
      "outputs": [
        {
          "output_type": "stream",
          "name": "stdout",
          "text": [
            "La multiplicación de los numeros es 60\n"
          ]
        }
      ]
    },
    {
      "cell_type": "markdown",
      "source": [
        "##Ejercicio 8"
      ],
      "metadata": {
        "id": "Ymgds-N2g1JN"
      }
    },
    {
      "cell_type": "code",
      "source": [
        "numeros = [3,4,5,6,7,8]\n",
        "def funcion(lista):\n",
        "  a = numeros[0]\n",
        "  b = numeros[1]\n",
        "  c = numeros[2]\n",
        "  d = numeros[3]\n",
        "  e = numeros[4]\n",
        "  f = numeros[5]\n",
        "  print(f'La multiplicación de los numeros es {a*b*c*d*e*f}')\n",
        "\n",
        "funcion(numeros)"
      ],
      "metadata": {
        "colab": {
          "base_uri": "https://localhost:8080/"
        },
        "id": "DwIezBwCg2cF",
        "outputId": "a82c7a69-95ad-4981-e868-6d08d21848d6"
      },
      "execution_count": 30,
      "outputs": [
        {
          "output_type": "stream",
          "name": "stdout",
          "text": [
            "La multiplicación de los numeros es 20160\n"
          ]
        }
      ]
    },
    {
      "cell_type": "markdown",
      "source": [
        "##Ejercicio 9"
      ],
      "metadata": {
        "id": "5iLKeqKQhZlM"
      }
    },
    {
      "cell_type": "code",
      "source": [
        "def invertir_string(palabra):\n",
        "    string_invertido = \"\"\n",
        "    for letra in palabra:\n",
        "        string_invertido = letra + string_invertido\n",
        "    return string_invertido\n",
        "invertir_string(\"Hola\")\n",
        "\n"
      ],
      "metadata": {
        "colab": {
          "base_uri": "https://localhost:8080/",
          "height": 35
        },
        "id": "TmH-isGbhbkE",
        "outputId": "0f0be267-634d-41e1-ea81-ca9278278c6b"
      },
      "execution_count": 40,
      "outputs": [
        {
          "output_type": "execute_result",
          "data": {
            "text/plain": [
              "'aloH'"
            ],
            "application/vnd.google.colaboratory.intrinsic+json": {
              "type": "string"
            }
          },
          "metadata": {},
          "execution_count": 40
        }
      ]
    },
    {
      "cell_type": "markdown",
      "source": [
        "##Ejercicio 10"
      ],
      "metadata": {
        "id": "1Y4eXllBiUN7"
      }
    },
    {
      "cell_type": "code",
      "source": [
        "a = int(input(\"Ingresa un numero\"))\n",
        "def factorial(numero):\n",
        "  b=1\n",
        "  c=2\n",
        "  while c<=numero:\n",
        "    b=b*c\n",
        "    c=c+1\n",
        "  print(f'El factorial de {numero} es {b}')\n",
        "factorial(a)"
      ],
      "metadata": {
        "colab": {
          "base_uri": "https://localhost:8080/"
        },
        "id": "r3oM_0RIiTz8",
        "outputId": "b25ccc57-8981-4cef-8740-6d007d708891"
      },
      "execution_count": 47,
      "outputs": [
        {
          "output_type": "stream",
          "name": "stdout",
          "text": [
            "Ingresa un numero6\n",
            "El factorial de 6 es 720\n"
          ]
        }
      ]
    }
  ]
}