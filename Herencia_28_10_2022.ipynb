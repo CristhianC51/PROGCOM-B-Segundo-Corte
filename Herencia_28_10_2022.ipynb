{
  "nbformat": 4,
  "nbformat_minor": 0,
  "metadata": {
    "colab": {
      "provenance": [],
      "collapsed_sections": []
    },
    "kernelspec": {
      "name": "python3",
      "display_name": "Python 3"
    },
    "language_info": {
      "name": "python"
    }
  },
  "cells": [
    {
      "cell_type": "markdown",
      "source": [
        "#Herencia\n",
        "##class()\n",
        "  ##Atributos (caracteristicas)\n",
        "  ##Métodos(Qué puede hacer el objeto)\n",
        "\n",
        "##class Humanos()\n",
        "  ##ojos, cabello, boca, orejas, nariz\n"
      ],
      "metadata": {
        "id": "HBxFbuYZhWt3"
      }
    },
    {
      "cell_type": "code",
      "source": [
        "class Humano (self,nombre,apellido,cabello,sexo,peso,estatura,ojos,piel,boca,orejas,pies,piernas,brazos,manos): ##Corregir a humano\n",
        "  self.nombre=nombre\n",
        "  self.apellido=apellido\n",
        "  self.cabello=cabello\n",
        "  self.sexo=sexo\n",
        "  self.peso=peso\n",
        "  self.estatura=estatura\n",
        "  self.ojos=ojos\n",
        "  self.piel=piel\n",
        "  self.boca=boca\n",
        "  self.orejas=orejas\n",
        "  self.pies=pies\n",
        "  self.piernas=piernas\n",
        "  self.brazos=brazos\n",
        "  self.manos=manos\n",
        "\n",
        "\n",
        "  def movilizarse(self,vel):\n",
        "    if vel<0:\n",
        "      print(f'{self.nombre}, esta retrocediendo')\n",
        "      vel=-vel\n",
        "      return vel\n",
        "    else:\n",
        "      print(f'{self.nombre} va pa´lante')\n",
        "      \n",
        "    if vel==0: #Metros x segundo\n",
        "      return f'{self.nombre} esta en estado de reposo o esta invalido'\n",
        "    elif vel>=0 and vel<=1:\n",
        "      return f'{self.nombre} esta caminando tranquilamente'\n",
        "    elif vel>5 and vel<=5:\n",
        "      return f'{self.nombre} esta caminando'\n",
        "    elif vel>5.9 and vel<=10:\n",
        "      return f'{self.nombre} esta corriendo'\n",
        "    elif vel>10 and vel<=700:\n",
        "      return f'{self.nombre} esta volando'\n",
        "    elif vel==100000000000000000000000000000000000000:\n",
        "      return f'{self.nombre} esta apunto de viajar en el tiempo :o'\n",
        "    else:\n",
        "      return f'{self.nombre} posiblemente no es humano'\n",
        "    \n",
        "\n",
        "  def trabajar(self,trabajo):\n",
        "    jobs=['ingenierio', 'doctor', 'granjero', 'bombero', 'policia', 'enfermero']\n",
        "    if jobs[trabajo] in trabajo:\n",
        "      if trabajo==0:\n",
        "        print(self.nombre, ' esta ', jobs[trabajo])\n",
        "      else:\n",
        "        print(self.nombre, ' es ', jobs[trabajo])\n"
      ],
      "metadata": {
        "id": "E1zqVvDUvKki"
      },
      "execution_count": null,
      "outputs": []
    },
    {
      "cell_type": "code",
      "execution_count": null,
      "metadata": {
        "id": "bBRCq4wXhSEG"
      },
      "outputs": [],
      "source": [
        "class Sayayin (self, nombre,apellido,cabello,sexo,peso,estatura,ojos,piel,boca,orejas,pies,piernas,brazos,manos):\n",
        "  self.nombre=nombre\n",
        "  self.apellido=apellido\n",
        "  self.cabello=cabello\n",
        "  self.sexo=sexo\n",
        "  self.peso=peso\n",
        "  self.estatura=estatura\n",
        "  self.ojos=ojos\n",
        "  self.cojos='negros'\n",
        "  self.piel=piel\n",
        "  self.boca=boca\n",
        "  self.orejas=orejas\n",
        "  self.pies=pies\n",
        "  self.piernas=piernas\n",
        "  self.brazos=brazos\n",
        "  self.manos=manos\n",
        "  self.cola_de_mono=True\n",
        "\n",
        "  def movilizarse(self,vel):\n",
        "    if vel<0:\n",
        "      print(f'{self.nombre}, esta retrocediendo')\n",
        "      vel=-vel\n",
        "      return vel\n",
        "    else:\n",
        "      print(f'{self.nombre} va pa´lante')\n",
        "      \n",
        "    if vel==0: #Metros x segundo\n",
        "      return f'{self.nombre} esta en estado de reposo o esta invalido'\n",
        "    elif vel>=0 and vel<=1:\n",
        "      return f'{self.nombre} esta caminando tranquilamente'\n",
        "    elif vel>5 and vel<=5:\n",
        "      return f'{self.nombre} esta caminando'\n",
        "    elif vel>5.9 and vel<=100:\n",
        "      return f'{self.nombre} esta corriendo'\n",
        "    elif vel>100 and vel<=1700:\n",
        "      return f'{self.nombre} esta volando'\n",
        "    elif vel==100000000000000000000000000000000000000:\n",
        "      return f'{self.nombre} esta apunto de viajar en el tiempo :o'\n",
        "    else:\n",
        "      return f'{self.nombre} posiblemente no es humano'\n",
        "    \n",
        "\n",
        "  def trabajar(self,trabajo):\n",
        "    jobs=['guerrero', 'mercenario', 'granjero', 'rey', 'principe']\n",
        "    if jobs[trabajo] in trabajo:\n",
        "      if trabajo==0:\n",
        "        print(self.nombre, ' esta ', jobs[trabajo])\n",
        "      else:\n",
        "        print(self.nombre, ' es ', jobs[trabajo])\n",
        "    else:\n",
        "      print(self.nombre, ' posiblemente no es sayayin')\n",
        "\n",
        "  def transformacion(self, luna):\n",
        "    luna=True\n",
        "    if self.cola_de_mono == True:\n",
        "      if luna == True:\n",
        "        print(\"Se ha convertido en un mono gigante\")\n",
        "      else:\n",
        "        print(\"No se a transformado\")\n",
        "    else:\n",
        "      print(\"No es un Sayayin\")\n",
        "    if luna and self.cola_de_mono:\n",
        "      print(self.nombre, \" se va a transformar en un mono gigante\")\n",
        "    elif luna and self.cola_de_mono==False:\n",
        "      print(self.nombre, ' no se va a transformar en mono gigante')\n",
        "    elif luna==False and self.cola_de_mono:\n",
        "      print(self.nombre, ' no se va a transformar en mono gigante')\n",
        "    else:\n",
        "      print(self.nombre, ' no se va a transformar en mono gigante')\n",
        "      "
      ]
    },
    {
      "cell_type": "code",
      "source": [
        "class Hibridos(Sayayin, Humanos): #Herencia multiple\n",
        "  pass "
      ],
      "metadata": {
        "id": "US12LzJHvADC"
      },
      "execution_count": null,
      "outputs": []
    },
    {
      "cell_type": "code",
      "source": [
        "gohan=Hibridos('gohan',2,1,2,2,'blanco',1,8,70,'M')\n",
        "gohan.luna(True)"
      ],
      "metadata": {
        "id": "EL9cMGRMvUAY"
      },
      "execution_count": null,
      "outputs": []
    }
  ]
}