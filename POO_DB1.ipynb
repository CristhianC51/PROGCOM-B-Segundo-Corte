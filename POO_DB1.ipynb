{
  "nbformat": 4,
  "nbformat_minor": 0,
  "metadata": {
    "colab": {
      "provenance": [],
      "collapsed_sections": []
    },
    "kernelspec": {
      "name": "python3",
      "display_name": "Python 3"
    },
    "language_info": {
      "name": "python"
    }
  },
  "cells": [
    {
      "cell_type": "code",
      "execution_count": 104,
      "metadata": {
        "id": "JPp4QEyeLqmZ"
      },
      "outputs": [],
      "source": [
        "class Saiayin():\n",
        "  def __init__(self, nombre, estatura):\n",
        "    self.nombre=nombre\n",
        "    self.ccabello='negro'\n",
        "    self.cojos='negros'\n",
        "    self.cola_mono=True\n",
        "    self.estatura=estatura\n",
        "\n",
        "  def cambio_color(self, putisteria):\n",
        "    if putisteria>=4000 and putisteria<100000:\n",
        "      self.ccabello = 'rubio'\n",
        "      self.cojos = 'aguamarina'\n",
        "    if putisteria>=100000 and putisteria<200000:\n",
        "      self.ccabello = 'rojo'\n",
        "      self.cojos = 'rosita'\n",
        "    if putisteria>=200000 and putisteria<500000:\n",
        "      self.ccabello = 'azul'\n",
        "      self.cojos = 'azul azul'\n",
        "    if putisteria>=500000 and putisteria<100000:\n",
        "      self.ccabello = 'cenizo'\n",
        "      self.cojos = 'plateado'\n",
        "    else:\n",
        "      self._ccabello = 'negro'\n",
        "      self.cojos = 'negro'\n",
        "\n",
        "  def trabajo(self,t):\n",
        "    if t==1: print(self.nombre, ' es guerrero')\n",
        "    elif t==2: print(self.nombre, ' es liendra de freezer')\n",
        "    elif t==3: print(self.nombre, ' es mercenario')\n",
        "    elif t==4: print(self.nombre, ' es de la realeza')\n",
        "    else: print(self.nombre, ' es NiNi xD')"
      ]
    },
    {
      "cell_type": "code",
      "source": [
        "class Humano():\n",
        "  def __init__(self, nombre, ccabello, cojos, estatura):\n",
        "    self.nombre=nombre\n",
        "    self.ccabello=ccabello\n",
        "    self.cojos=cojos\n",
        "    self.estatura=estatura\n",
        "\n",
        "  def cambio_color(self, tinte):\n",
        "    if tinte==0:\n",
        "      self.ccabello = 'rubio'\n",
        "      self.cojos = 'aguamarina'\n",
        "    if tinte==1:\n",
        "      self.ccabello = 'rojo'\n",
        "      self.cojos = 'rosita'\n",
        "    if tinte==2:\n",
        "      self.ccabello = 'azul'\n",
        "      self.cojos = 'azul azul'\n",
        "    if tinte==3:\n",
        "      self.ccabello = 'cenizo'\n",
        "      self.cojos = 'plateado'\n",
        "    else:\n",
        "      self.ccabello = 'negro'\n",
        "      self.cojos = 'negro'\n",
        "\n",
        "  def trabajo(self,t):\n",
        "    if t==1: print(self.nombre, ' es periodista')\n",
        "    elif t==2: print(self.nombre, ' es politico')\n",
        "    elif t==3: print(self.nombre, ' es de la patrulla roja')\n",
        "    elif t==4: print(self.nombre, ' trabaja en capsule corps')\n",
        "    elif t==5: print(self.nombre, ' es policia')\n",
        "    elif t==6: print(self.nombre, ' es granjero')\n",
        "    else: print(self.nombre, ' es NiNi xD')"
      ],
      "metadata": {
        "id": "vyJU6-_FaWAn"
      },
      "execution_count": 108,
      "outputs": []
    },
    {
      "cell_type": "code",
      "source": [
        "class Hibridos(Saiayin, Humano):\n",
        "  def __init__(self, nombre, estatura, ccabello, cojos):\n",
        "    super().__init__(nombre,estatura)\n",
        "  def cambio_color(self, a):\n",
        "    super().cambio_color(a)\n",
        "    if a>=1000000000 and a<1000000000:\n",
        "      self.ccabello = 'blancos'\n",
        "      self.cojos = 'rojos'"
      ],
      "metadata": {
        "id": "CqtPL4TZbSxO"
      },
      "execution_count": 141,
      "outputs": []
    },
    {
      "cell_type": "code",
      "source": [
        "saya1 = Saiayin('Johncito', 180)"
      ],
      "metadata": {
        "id": "uEv6cvgsUk4P"
      },
      "execution_count": 110,
      "outputs": []
    },
    {
      "cell_type": "code",
      "source": [
        "saya1.cambio_color(100000)"
      ],
      "metadata": {
        "id": "bs0xUUO0b0RI"
      },
      "execution_count": 111,
      "outputs": []
    },
    {
      "cell_type": "code",
      "source": [
        "saya1.__dict__"
      ],
      "metadata": {
        "colab": {
          "base_uri": "https://localhost:8080/"
        },
        "id": "xjXs20JIU00d",
        "outputId": "2cdeb509-b930-41a9-cbb3-4614b4fceb3e"
      },
      "execution_count": 112,
      "outputs": [
        {
          "output_type": "execute_result",
          "data": {
            "text/plain": [
              "{'nombre': 'Johncito',\n",
              " 'ccabello': 'rojo',\n",
              " 'cojos': 'negro',\n",
              " 'cola_mono': True,\n",
              " 'estatura': 180,\n",
              " '_ccabello': 'negro'}"
            ]
          },
          "metadata": {},
          "execution_count": 112
        }
      ]
    },
    {
      "cell_type": "code",
      "source": [
        "saya1._ccabello = 'Amarillo con brillos'"
      ],
      "metadata": {
        "id": "52oBtVulU66l"
      },
      "execution_count": 61,
      "outputs": []
    },
    {
      "cell_type": "code",
      "source": [
        "human = Humano('carlitos', 'negro', 'marrón', '170')"
      ],
      "metadata": {
        "id": "EZqzvjXabgqj"
      },
      "execution_count": 42,
      "outputs": []
    },
    {
      "cell_type": "code",
      "source": [
        "human.__dict__"
      ],
      "metadata": {
        "colab": {
          "base_uri": "https://localhost:8080/"
        },
        "id": "g5kDHugebskt",
        "outputId": "2d698e52-0ba8-416a-cc6b-690716903b78"
      },
      "execution_count": 62,
      "outputs": [
        {
          "output_type": "execute_result",
          "data": {
            "text/plain": [
              "{'nombre': 'carlitos',\n",
              " '_ccabello': 'negro',\n",
              " 'cojos': 'marrón',\n",
              " 'estatura': '170'}"
            ]
          },
          "metadata": {},
          "execution_count": 62
        }
      ]
    },
    {
      "cell_type": "code",
      "source": [
        "persona = Hibridos('Gohan', '185', 'verde', 'verde')\n",
        "persona.__dict__"
      ],
      "metadata": {
        "colab": {
          "base_uri": "https://localhost:8080/"
        },
        "id": "jaHba2Gwco39",
        "outputId": "6de9293a-7c9a-418e-9522-731ec7e0f21e"
      },
      "execution_count": 142,
      "outputs": [
        {
          "output_type": "execute_result",
          "data": {
            "text/plain": [
              "{'nombre': 'Gohan',\n",
              " 'ccabello': 'negro',\n",
              " 'cojos': 'negros',\n",
              " 'cola_mono': True,\n",
              " 'estatura': '185'}"
            ]
          },
          "metadata": {},
          "execution_count": 142
        }
      ]
    }
  ]
}