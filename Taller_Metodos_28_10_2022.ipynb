{
  "nbformat": 4,
  "nbformat_minor": 0,
  "metadata": {
    "colab": {
      "provenance": []
    },
    "kernelspec": {
      "name": "python3",
      "display_name": "Python 3"
    },
    "language_info": {
      "name": "python"
    }
  },
  "cells": [
    {
      "cell_type": "markdown",
      "source": [
        "#Taller"
      ],
      "metadata": {
        "id": "uKoVvSSFRpKw"
      }
    },
    {
      "cell_type": "markdown",
      "source": [
        "##Ejercicio 1\n",
        "\n",
        "Confeccionar una clase que represente un empleado. Definir como atributos su nombre y su sueldo. En el método __init__ cargar los atributos por teclado y luego en otro método imprimir sus datos y por último uno que imprima un mensaje si debe pagar impuestos (si el sueldo supera a 8000)\n"
      ],
      "metadata": {
        "id": "FjeXywk5RrWf"
      }
    },
    {
      "cell_type": "code",
      "execution_count": 1,
      "metadata": {
        "colab": {
          "base_uri": "https://localhost:8080/"
        },
        "id": "9CEwFGAAIxxc",
        "outputId": "67e8aed5-18d8-410a-f30b-afa60f1d9427"
      },
      "outputs": [
        {
          "output_type": "stream",
          "name": "stdout",
          "text": [
            "Ingrese el nombre del empleado:Juan\n",
            "Ingrese el sueldo:10000\n",
            "Nombre: Juan\n",
            "Sueldo: 10000.0\n",
            "Debe pagar impuestos\n"
          ]
        }
      ],
      "source": [
        " class Empleado:\n",
        "\n",
        "    def __init__(self):\n",
        "        self.nombre=input(\"Ingrese el nombre del empleado:\")\n",
        "        self.sueldo=float(input(\"Ingrese el sueldo:\"))\n",
        "\n",
        "    def imprimir(self):\n",
        "        print(\"Nombre:\",self.nombre)\n",
        "        print(\"Sueldo:\",self.sueldo)\n",
        "\n",
        "    def paga_impuestos(self):\n",
        "        if self.sueldo>3000:\n",
        "            print(\"Debe pagar impuestos\")\n",
        "        else:\n",
        "            print(\"No paga impuestos\")\n",
        "\n",
        "\n",
        "empleado1=Empleado()\n",
        "empleado1.imprimir()\n",
        "empleado1.paga_impuestos()"
      ]
    },
    {
      "cell_type": "markdown",
      "source": [
        "##Ejercicio 2 __str__\n",
        "Define una clase con el nombre Ninjas la cual tenga un metodo __init__ con los siguientes atributos:\n",
        "- hp (Esta seria la vida)\n",
        "- resistencia\n",
        "- xp (Esta seria la experiencia)\n",
        "- vidas\n",
        "\n",
        "Con un metodo __str__ imprimelos en el siguiente orden: \n",
        "- hp: (Su vida actual)\n",
        "- resistencia: (Su resistencia)\n",
        "- xp: (Su experiencia)\n",
        "- vidas: (Sus vidas)"
      ],
      "metadata": {
        "id": "u944ejyoR6C3"
      }
    },
    {
      "cell_type": "code",
      "source": [
        "class Ninjas:\n",
        "  def __init__(self, hp, resistencia, xp, vidas):\n",
        "    self.hp = hp\n",
        "    self.resistencia = resistencia\n",
        "    self.xp = xp\n",
        "    self.vidas = vidas\n",
        "  \n",
        "  def __str__(self):\n",
        "    cadena = f'El ninja tiene: \\n Vida: {self.hp} \\n Resistencia: {self.resistencia} \\n xp: {self.xp} \\n Vidas: {self.vidas}'\n",
        "    return cadena\n",
        "\n",
        "ninjas = Ninjas(100, 50, 100, 3)\n",
        "print(ninjas)"
      ],
      "metadata": {
        "colab": {
          "base_uri": "https://localhost:8080/"
        },
        "id": "KPG2oApSR8gH",
        "outputId": "40e4fc63-7a1a-4dbb-d268-0b2805a16d07"
      },
      "execution_count": 2,
      "outputs": [
        {
          "output_type": "stream",
          "name": "stdout",
          "text": [
            "El ninja tiene: \n",
            " Vida: 100 \n",
            " Resistencia: 50 \n",
            " xp: 100 \n",
            " Vidas: 3\n"
          ]
        }
      ]
    },
    {
      "cell_type": "markdown",
      "source": [
        "##Ejercicio 3\n",
        "Crea una clase llamada Cuenta que tendrá los siguientes atributos: titular (que es una persona) y cantidad (puede tener decimales). El titular será obligatorio y la cantidad es opcional. Construye los siguientes métodos para la clase:\n",
        "-\tUn constructor, donde los datos pueden estar vacíos.\n",
        "-\tLos setters y getters para cada uno de los atributos. \n",
        "-\tmostrar(): Muestra los datos de la cuenta.\n",
        "-\tingresar(cantidad): se ingresa una cantidad a la cuenta, si la cantidad introducida es negativa, no se hará nada.\n",
        "-\tretirar(cantidad): se retira una cantidad a la cuenta. La cuenta puede estar en números rojos."
      ],
      "metadata": {
        "id": "qE3aDQxNSDHH"
      }
    },
    {
      "cell_type": "code",
      "source": [
        "class Cuenta():\n",
        "\n",
        "    def __init__(self,titular,cantidad=0):\n",
        "        self.titular=titular\n",
        "        self.__cantidad=cantidad\n",
        "    \n",
        "    @property\n",
        "    def titular(self):\n",
        "        return self.__titular\n",
        "    \n",
        "    @property\n",
        "    def cantidad(self):\n",
        "        return self.__cantidad\n",
        "\n",
        "    @titular.setter\n",
        "    def titular(self,titular):\n",
        "        self.__titular=titular\n",
        "\n",
        "       \n",
        "    def mostrar(self):\n",
        "        return \"Cuenta\\n\"+\"Titular:\"+self.titular.mostrar()+\" - Cantidad:\"+str(self.cantidad)\n",
        "    \n",
        "    def ingresar(self,cantidad):\n",
        "        if cantidad > 0:\n",
        "            self.__cantidad = self.__cantidad + cantidad\n",
        "    \n",
        "    def retirar(self,cantidad):\n",
        "        if cantidad > 0:\n",
        "            self.__cantidad = self.__cantidad - cantidad\n"
      ],
      "metadata": {
        "id": "YXwapvCZSNWt"
      },
      "execution_count": 4,
      "outputs": []
    }
  ]
}