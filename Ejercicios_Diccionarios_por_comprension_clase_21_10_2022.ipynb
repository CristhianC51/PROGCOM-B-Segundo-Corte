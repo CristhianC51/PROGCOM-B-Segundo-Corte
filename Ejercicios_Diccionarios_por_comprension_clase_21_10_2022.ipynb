{
  "nbformat": 4,
  "nbformat_minor": 0,
  "metadata": {
    "colab": {
      "provenance": [],
      "collapsed_sections": []
    },
    "kernelspec": {
      "name": "python3",
      "display_name": "Python 3"
    },
    "language_info": {
      "name": "python"
    }
  },
  "cells": [
    {
      "cell_type": "markdown",
      "source": [
        "**##Como usar la comprensión de diccionario para crear un diccionario de Python a partir de una iteració**n\n",
        "\n",
        "Podemos crear un nuevo diccionario en Python usando solamente un iterable si elegimos generar ya sea las claves o los valores en marcha.\n",
        "Cuando elegimos generar los valores en cuestión, podemos usar los items en el iterable cómo claves, y viceversa. La sintaxis general es mostrada abajo. Por favor, observa que los nombres entre <> son marcadores de posición para los nombres actuales de las variables."
      ],
      "metadata": {
        "id": "Tt3QwXNvIU-W"
      }
    },
    {
      "cell_type": "markdown",
      "source": [
        "##Ejercicio de Santiago Carvajal"
      ],
      "metadata": {
        "id": "4qW3Wl8YJp9u"
      }
    },
    {
      "cell_type": "code",
      "execution_count": 3,
      "metadata": {
        "colab": {
          "base_uri": "https://localhost:8080/"
        },
        "id": "fjHNI853GIyN",
        "outputId": "7953a07d-300d-4527-b4ff-f60d3c7133dd"
      },
      "outputs": [
        {
          "output_type": "execute_result",
          "data": {
            "text/plain": [
              "{'Alex': 27,\n",
              " 'Bob': 16,\n",
              " 'Carol': 2,\n",
              " 'Dave': 68,\n",
              " 'Flow': 73,\n",
              " 'Katie': 92,\n",
              " 'Nate': 59}"
            ]
          },
          "metadata": {},
          "execution_count": 3
        }
      ],
      "source": [
        "#Comprensión\n",
        "import random\n",
        "clientes = ['Alex', 'Bob', 'Carol', 'Dave', 'Flow', 'Katie', 'Nate']\n",
        "diccionario_descuentos = {cliente:random.randint(1,100) for cliente in clientes}\n",
        "diccionario_descuentos"
      ]
    },
    {
      "cell_type": "code",
      "source": [
        "import random\n",
        "clientes = ['Alex', 'Bob', 'Carol', 'Dave', 'Flow', 'Katie', 'Nate']\n",
        "diccionario_descuentos = (dict(map(lambda diccionario_descuentos: (diccionario_descuentos, random.randint(1,100)), clientes)))\n",
        "diccionario_descuentos"
      ],
      "metadata": {
        "colab": {
          "base_uri": "https://localhost:8080/"
        },
        "id": "LItyX5YyJE12",
        "outputId": "51873bbc-3708-43ed-e991-57d6773a49bc"
      },
      "execution_count": 6,
      "outputs": [
        {
          "output_type": "execute_result",
          "data": {
            "text/plain": [
              "{'Alex': 5,\n",
              " 'Bob': 12,\n",
              " 'Carol': 58,\n",
              " 'Dave': 17,\n",
              " 'Flow': 5,\n",
              " 'Katie': 22,\n",
              " 'Nate': 23}"
            ]
          },
          "metadata": {},
          "execution_count": 6
        }
      ]
    },
    {
      "cell_type": "markdown",
      "source": [
        "##Ejercicio de Juan David Vargas"
      ],
      "metadata": {
        "id": "rW0BeQgqJo7-"
      }
    },
    {
      "cell_type": "code",
      "source": [
        "productos = ['milk', 'bread', 'butter', 'apple', 'watermelon', 'banana', 'candy','water','ice']\n",
        "precio = [3,4,5,6,7,8,9,5,8,9,1,4]\n",
        "\n",
        "precio_productos = {productos: precio for (productos, precio) in zip (productos, precio)}\n",
        "precio_productos"
      ],
      "metadata": {
        "colab": {
          "base_uri": "https://localhost:8080/"
        },
        "id": "OFJzEqGjJWtm",
        "outputId": "64a2bd18-35a3-4783-efc4-2c45f242a5a4"
      },
      "execution_count": 7,
      "outputs": [
        {
          "output_type": "execute_result",
          "data": {
            "text/plain": [
              "{'milk': 3,\n",
              " 'bread': 4,\n",
              " 'butter': 5,\n",
              " 'apple': 6,\n",
              " 'watermelon': 7,\n",
              " 'banana': 8,\n",
              " 'candy': 9,\n",
              " 'water': 5,\n",
              " 'ice': 8}"
            ]
          },
          "metadata": {},
          "execution_count": 7
        }
      ]
    },
    {
      "cell_type": "code",
      "source": [
        "descuentos = {productos:precio for (productos, precio) in precio_productos.items() if precio<5}\n",
        "descuentos"
      ],
      "metadata": {
        "colab": {
          "base_uri": "https://localhost:8080/"
        },
        "id": "Tiq3aHSPKMtT",
        "outputId": "1fb04e79-2707-4bf5-ab51-bba4c5637f13"
      },
      "execution_count": 8,
      "outputs": [
        {
          "output_type": "execute_result",
          "data": {
            "text/plain": [
              "{'milk': 3, 'bread': 4}"
            ]
          },
          "metadata": {},
          "execution_count": 8
        }
      ]
    },
    {
      "cell_type": "markdown",
      "source": [
        "##Ejercicio de Jaime Luis"
      ],
      "metadata": {
        "id": "L40dAwDwKeLP"
      }
    },
    {
      "cell_type": "code",
      "source": [
        "Productos = {'papas': 1300, 'jugos': 1800, 'helados':2300, 'dulces':800, 'leche':4200}\n",
        "operacion = {x:y*1.19 for (x,y) in Productos.items()}\n",
        "print(f'El precio sin IVA de los productos es {Productos}')\n",
        "print(f'El precio con IVA de los productos es {operacion}')"
      ],
      "metadata": {
        "colab": {
          "base_uri": "https://localhost:8080/"
        },
        "id": "60tqZkZJKZiP",
        "outputId": "5590193f-f2fd-41ab-d707-e4aa74950c68"
      },
      "execution_count": 9,
      "outputs": [
        {
          "output_type": "stream",
          "name": "stdout",
          "text": [
            "El precio sin IVA de los productos es {'papas': 1300, 'jugos': 1800, 'helados': 2300, 'dulces': 800, 'leche': 4200}\n",
            "El precio con IVA de los productos es {'papas': 1547.0, 'jugos': 2142.0, 'helados': 2737.0, 'dulces': 952.0, 'leche': 4998.0}\n"
          ]
        }
      ]
    },
    {
      "cell_type": "code",
      "source": [
        "tienda = {'papas':1300, 'jugos':1800, 'helados':2300, 'dulces':800, 'leche':4200}\n",
        "compra = ['papas', 'juegos', 'helados', 'dulces', 'leche']\n",
        "\n",
        "IVA = dict(map(lambda producto:(producto, tienda[producto]) if producto in tienda else (producto, None), compra))\n",
        "IVA"
      ],
      "metadata": {
        "colab": {
          "base_uri": "https://localhost:8080/"
        },
        "id": "EZWAVDAGLFdW",
        "outputId": "b6679459-de0b-492e-b89e-3f2fa16a378f"
      },
      "execution_count": 10,
      "outputs": [
        {
          "output_type": "execute_result",
          "data": {
            "text/plain": [
              "{'papas': 1300, 'juegos': None, 'helados': 2300, 'dulces': 800, 'leche': 4200}"
            ]
          },
          "metadata": {},
          "execution_count": 10
        }
      ]
    },
    {
      "cell_type": "markdown",
      "source": [
        "##Ejercicio de Leandro"
      ],
      "metadata": {
        "id": "c7nlFrrALjxW"
      }
    },
    {
      "cell_type": "code",
      "source": [
        "#Comprensión\n",
        "def check_temp(value):\n",
        "  if value >= 70:\n",
        "    return 'hot'\n",
        "  elif 69 >= value >= 40:\n",
        "    return 'warn'\n",
        "  else:\n",
        "    return 'cold'\n",
        "\n",
        "cities = {'New York':32, 'Boston': 75, 'Los Angeles':100, 'Chicago':50}\n",
        "des_cities = {key: check_temp(value) for (key, value) in cities.items()}\n",
        "des_cities"
      ],
      "metadata": {
        "colab": {
          "base_uri": "https://localhost:8080/"
        },
        "id": "fa1PTEvwNg12",
        "outputId": "594a84b4-1662-4644-f431-8876ee527c1a"
      },
      "execution_count": 14,
      "outputs": [
        {
          "output_type": "execute_result",
          "data": {
            "text/plain": [
              "{'New York': 'cold', 'Boston': 'hot', 'Los Angeles': 'hot', 'Chicago': 'warn'}"
            ]
          },
          "metadata": {},
          "execution_count": 14
        }
      ]
    },
    {
      "cell_type": "code",
      "source": [
        "#lambda\n",
        "def check_temp(value):\n",
        "  if value >= 70:\n",
        "    return 'hot'\n",
        "  elif 69 >= value >= 40:\n",
        "    return 'warn'\n",
        "  else:\n",
        "    return 'cold'\n",
        "\n",
        "cities = {'New York':32, 'Boston': 75, 'Los Angeles':100, 'Chicago':50}\n",
        "des_cities = dict[map(lambda cit: check_temp(cities.values(cit), cities.items()))]\n",
        "#Another form\n",
        "des_cities = {key: check_temp(value) for (key, value) in cities.items()}\n",
        "des_cities"
      ],
      "metadata": {
        "id": "b-dBbp2SLigX"
      },
      "execution_count": null,
      "outputs": []
    },
    {
      "cell_type": "markdown",
      "source": [
        "##Ejercicio de Sebastian"
      ],
      "metadata": {
        "id": "t9PrTlsuOASL"
      }
    },
    {
      "cell_type": "code",
      "source": [
        "#Tradicional\n",
        "import random \n",
        "compañeros=[]\n",
        "def aleatorio(opciones):\n",
        "  opciones = list(opciones)\n",
        "  while True:\n",
        "    x = random.choice(opciones)\n",
        "    opciones.remove(x)\n",
        "    yield x\n",
        "\n",
        "print(\"Para no agregar mas nombres escribe '0'\")\n",
        "a='t'\n",
        "while a!=0:\n",
        "  a = (input(\"Ingresa el nombre de tu compañero: \"))\n",
        "  if a!='0':\n",
        "    compañeros.append(a)\n",
        "  cantidad = len(compañeros)\n",
        "  contador = 0\n",
        "  numeros = []\n",
        "\n",
        "while contador != (cantidad+1):\n",
        "  contador+-1\n",
        "  numeros.append(contador)\n",
        "alt = aleatorio(numeros)\n",
        "num_alt = {}\n",
        "for s in range(cantidad):\n",
        "  num_alt[compañeros[s]]=next(alt)\n",
        "print(num_alt)"
      ],
      "metadata": {
        "id": "Yikd987_M1kf"
      },
      "execution_count": null,
      "outputs": []
    },
    {
      "cell_type": "code",
      "source": [
        "#Comprensión\n",
        "import random \n",
        "compañeros=[]\n",
        "def aleatorio(opciones):\n",
        "  opciones = list(opciones)\n",
        "  while True:\n",
        "    x = random.choice(opciones)\n",
        "    opciones.remove(x)\n",
        "    yield x\n",
        "\n",
        "print(\"Para no agregar mas nombres escribe '0'\")\n",
        "a='t'\n",
        "while a!=0:\n",
        "  a = (input(\"Ingresa el nombre de tu compañero: \"))\n",
        "  if a!='0':\n",
        "    compañeros.append(a)\n",
        "cantidad = len(compañeros)\n",
        "contador = 0\n",
        "numeros = [num for num in range(1, (cantidad+1))]\n",
        "alt = aleatorio(numeros)\n",
        "num_alt = {orden:next(alt) for orden in compañeros}\n",
        "print(num_alt)"
      ],
      "metadata": {
        "id": "fwiSFQOcP5gs"
      },
      "execution_count": null,
      "outputs": []
    },
    {
      "cell_type": "code",
      "source": [
        "#lambda\n",
        "print(\"Para no agregar mas nombres escribe '0'\")\n",
        "a='t'\n",
        "while a!=0:\n",
        "  a = (input(\"Ingresa el nombre de tu compañero: \"))\n",
        "  if a!='0':\n",
        "    compañeros.append(a)\n",
        "cantidad = len(compañeros)\n",
        "valores = [n for n in range (1, cantidad+1)]\n",
        "numeros = list(map(lambda num: num, valores))\n",
        "alt = aleatorio(numeros)\n",
        "num_alt = dict (map(lambda orden: orden, next(alt), compañeros))\n",
        "num_alt"
      ],
      "metadata": {
        "id": "rR70l4yWQu2s"
      },
      "execution_count": null,
      "outputs": []
    },
    {
      "cell_type": "markdown",
      "source": [
        "##Ejercicio de Daniel Rodriguez"
      ],
      "metadata": {
        "id": "SebDpNAaROAM"
      }
    },
    {
      "cell_type": "code",
      "source": [
        "#tradicional\n",
        "import random\n",
        "diccionario = ['cliente 1', 'cliente 2', 'cliente 3', 'cliente 4', 'cliente 5']\n",
        "tienda = (dict(map(lambda tienda:(tienda, random.randint(1000,100000)), diccionario)))\n",
        "tienda_sort = sorted(tienda.values())\n",
        "mayor = tienda_sort[-1]\n",
        "mayor1 = tienda_sort[4::]\n",
        "cliente = list(tienda.values()).index(mayor)\n",
        "if cliente==0:\n",
        "  a='cliente 1'\n",
        "if cliente==1:\n",
        "  a='cliente 2'\n",
        "if cliente==2:\n",
        "  a='cliente 3'\n",
        "if cliente==3:\n",
        "  a='cliente 4'\n",
        "if cliente==4:\n",
        "  a='cliente 5'\n",
        "oferta = {producto*0.8 for producto in mayor1}\n",
        "print(f'El {a} tuvo la mayor compra con un valor de {mayor}, por lo tanto obtuvo un descuento del 20%, su total fue {oferta}')"
      ],
      "metadata": {
        "id": "KGKmd6GKRLqM"
      },
      "execution_count": null,
      "outputs": []
    },
    {
      "cell_type": "code",
      "source": [
        "#por función\n",
        "diccionario = ['cliente 1', 'cliente 2', 'cliente 3', 'cliente 4', 'cliente 5']\n",
        "def cositas(a):\n",
        "  tienda = (dict(map(lambda tienda:(tienda, random.randint(1000,100000)), diccionario)))\n",
        "  tienda_sort = sorted(tienda.values())\n",
        "  mayor = tienda_sort[-1]\n",
        "  mayor1 = tienda_sort[4::]\n",
        "  cliente = list(tienda.values()).index(mayor)\n",
        "  if cliente==0:\n",
        "    a='cliente 1'\n",
        "  if cliente==1:\n",
        "    a='cliente 2'\n",
        "  if cliente==2:\n",
        "    a='cliente 3'\n",
        "  if cliente==3:\n",
        "    a='cliente 4'\n",
        "  if cliente==4:\n",
        "    a='cliente 5'\n",
        "  oferta = {producto*0.8 for producto in mayor1}\n",
        "  print(f'El {a} tuvo la mayor compra con un valor de {mayor}, por lo tanto obtuvo un descuento del 20%, su total fue {oferta}')\n",
        "cositas(diccionario)"
      ],
      "metadata": {
        "id": "e2hD8lGZURm1"
      },
      "execution_count": null,
      "outputs": []
    },
    {
      "cell_type": "code",
      "source": [
        "#por lambda\n",
        "import random\n",
        "diccionario = ['cliente 1', 'cliente 2', 'cliente 3', 'cliente 4', 'cliente 5']\n",
        "tienda = (dict(map(lambda tienda:(tienda, random.randint(1000,100000)), diccionario)))\n",
        "tienda_sort = sorted(tienda.values())\n",
        "mayor = tienda_sort[-1]\n",
        "mayor1 = tienda_sort[4::]\n",
        "oferta = {producto*0.8 for producto in mayor1}\n",
        "cositas = max(tienda, key = tienda.get)\n",
        "print(f'El {cositas} tuvo la mayor compra con un valor de {mayor}, por lo tanto obtuvo un descuento del 20%, su total fue {oferta}')"
      ],
      "metadata": {
        "id": "88tDNmqpSw1t"
      },
      "execution_count": null,
      "outputs": []
    },
    {
      "cell_type": "markdown",
      "source": [
        "##Ejercicio de Adrian Parra"
      ],
      "metadata": {
        "id": "06WSBwGxUs3t"
      }
    },
    {
      "cell_type": "code",
      "source": [
        "#Comprensión\n",
        "nombre = str(input('Ingrese el nombre del atleta'))\n",
        "n = int(input(\"Ingrese le numero de saltos \"))\n",
        "\n",
        "def fun(nombre, a):\n",
        "  lista = []\n",
        "  for i in range (0,a):\n",
        "    name = str(f'Salto {i+1}')\n",
        "    lista.append(name)\n",
        "  \n",
        "  print(\"La altura de los saltos se mide en metros\")\n",
        "  dic_lista = {lista: float(input(f'Ingrese la altura del salto ')) for lista in lista}\n",
        "  distancia = sorted(dic_lista.values())\n",
        "  mayor = distancia[-1]\n",
        "  print(f'Atleta {nombre} ')\n",
        "  print(dic_lista)\n",
        "  sum=0\n",
        "  for i in dic_lista.values():\n",
        "    sum+=1\n",
        "  prom = sum/a\n",
        "  redprom = round(prom,2)\n",
        "  print(f'El promedio de los {a} saltos es de {redprom} metros, teniendo que el mayor fue aquel con {mayor} metros de altura')\n",
        "\n",
        "fun(nombre, n)"
      ],
      "metadata": {
        "colab": {
          "base_uri": "https://localhost:8080/"
        },
        "id": "KjNx4PS2UviV",
        "outputId": "bf2194f0-d4c4-4fa0-e0e8-f5e7b4e570e0"
      },
      "execution_count": 17,
      "outputs": [
        {
          "output_type": "stream",
          "name": "stdout",
          "text": [
            "Ingrese el nombre del atletaJuan\n",
            "Ingrese le numero de saltos 4\n",
            "La altura de los saltos se mide en metros\n",
            "Ingrese la altura del salto 2\n",
            "Ingrese la altura del salto 2\n",
            "Ingrese la altura del salto 1\n",
            "Ingrese la altura del salto 2\n",
            "Atleta Juan \n",
            "{'Salto 1': 2.0, 'Salto 2': 2.0, 'Salto 3': 1.0, 'Salto 4': 2.0}\n",
            "El promedio de los 4 saltos es de 1.0 metros, teniendo que el mayor fue aquel con 2.0 metros de altura\n"
          ]
        }
      ]
    },
    {
      "cell_type": "code",
      "source": [
        "#lambda\n",
        "from functools import reduce\n",
        "\n",
        "nombre = str(input('Ingrese el nombre del atleta '))\n",
        "a = int(input(\"Ingrese el numero de saltos \"))\n",
        "\n",
        "lista = []\n",
        "for i in range (0,a):\n",
        "  name = str(f'Salto {i+1}')\n",
        "  lista.append(name)\n",
        "\n",
        "print(\"La altura de los saltos se mide en metros\")\n",
        "dic_lista = {lista: float(input(f'Ingrese la altura del salto ')) for lista in lista}\n",
        "distancia = sorted(dic_lista.values())\n",
        "mayor = distancia[-1]\n",
        "print(f'Atleta {nombre} ')\n",
        "print(dic_lista)\n",
        "sum=0\n",
        "for i in dic_lista.values():\n",
        "  sum+=1\n",
        "prom = sum/a\n",
        "redprom = round(prom,2)\n",
        "print(f'El promedio de los {a} saltos es de {redprom} metros, teniendo que el mayor fue aquel con {mayor} metros de altura')"
      ],
      "metadata": {
        "colab": {
          "base_uri": "https://localhost:8080/"
        },
        "id": "FfOKeWEEWE1a",
        "outputId": "c623825a-88cf-40c6-d60b-af8103ab7446"
      },
      "execution_count": 18,
      "outputs": [
        {
          "output_type": "stream",
          "name": "stdout",
          "text": [
            "Ingrese el nombre del atleta 2\n",
            "Ingrese el numero de saltos 2\n",
            "La altura de los saltos se mide en metros\n",
            "Ingrese la altura del salto 4\n",
            "Ingrese la altura del salto 5\n",
            "Atleta 2 \n",
            "{'Salto 1': 4.0, 'Salto 2': 5.0}\n",
            "El promedio de los 2 saltos es de 1.0 metros, teniendo que el mayor fue aquel con 5.0 metros de altura\n"
          ]
        }
      ]
    },
    {
      "cell_type": "markdown",
      "source": [
        "##Ejercicio de Santiago Galindo"
      ],
      "metadata": {
        "id": "6Cpmz-8_Wls_"
      }
    },
    {
      "cell_type": "code",
      "source": [
        "#tradicional\n",
        "import random\n",
        "cs = ['Andru', 'David', 'Sebas']\n",
        "CS = ['Andres', 'Flowey', 'Cata', 'Karen']\n",
        "DD = {cs:random.randint(1,50) for cs in cs}\n",
        "DD1 = {CS:random.randint(1,50) for CS in CS}\n",
        "print(DD, DD1)"
      ],
      "metadata": {
        "id": "MhdjIDj7Wn3m"
      },
      "execution_count": null,
      "outputs": []
    },
    {
      "cell_type": "code",
      "source": [
        "#def\n",
        "import random\n",
        "def A ():\n",
        "  cs = ['Andru', 'David', 'Sebas']\n",
        "  CS = ['Andres', 'Flowey', 'Cata', 'Karen']\n",
        "  DD = {cs:random.randint(1,50) for cs in cs}\n",
        "  DD1 = {CS:random.randint(1,50) for CS in CS}\n",
        "  return DD, DD1\n",
        "\n",
        "A()"
      ],
      "metadata": {
        "id": "bBlxov2eW-Fv"
      },
      "execution_count": null,
      "outputs": []
    },
    {
      "cell_type": "code",
      "source": [
        "#lambda\n",
        "cs = ['Andru', 'David', 'Sebas']\n",
        "CS = ['Andres', 'Flowey', 'Cata', 'Karen']\n",
        "DD = (dict(map(lambda DD:(DD,random.randint(1,50)),cs)))\n",
        "DD1 = (dict(map(lambda DD1:(DD1,random.randint(1,50)),CC)))\n",
        "\n",
        "print(DD, DD1)"
      ],
      "metadata": {
        "id": "-dSY5chJXIjU"
      },
      "execution_count": null,
      "outputs": []
    },
    {
      "cell_type": "markdown",
      "source": [
        "##Ejercicio de Juan Zuluaga"
      ],
      "metadata": {
        "id": "QHy4_UfzXzdC"
      }
    },
    {
      "cell_type": "code",
      "source": [
        "import random\n",
        "listado_numerico = []\n",
        "while True:\n",
        "  nombres = str(input('Ingrese el nombre del cliente '))\n",
        "  listado_numerico.append(nombres)\n",
        "  confirmador = str(input('¿Hubo mas clientes el dia de hoy?'))\n",
        "  confirmador.lower()\n",
        "  if confirmador == 'no':\n",
        "    break\n",
        "\n",
        "print(listado_numerico)\n",
        "catalogocomp = {listado_numerico: random.randint(100,5000) for listado_numerico in listado_numerico}\n",
        "\n",
        "costes = sorted(catalogocomp)\n",
        "mayor=max(catalogocomp, key = catalogocomp.get)\n",
        "gastos = sum (catalogocomp.values())*0.8 if sum(catalogocomp.alues())>10000 else sum(catalogocomp.values())\n",
        "print(mayor)\n",
        "\n",
        "descuentos_prod = [0.6, 0.8, 0.5]\n",
        "catalogo_descuentos = {listado_numerico: random.choice(descuentos_prod)*random.randint(100,5000) for listado_numerico in listado_numerico if random.randint(100,5000)>4500}"
      ],
      "metadata": {
        "id": "1f36_bLcX2Ej"
      },
      "execution_count": null,
      "outputs": []
    },
    {
      "cell_type": "markdown",
      "source": [
        "##Ejercicio de Juan Arenales\n"
      ],
      "metadata": {
        "id": "yXG3g3ifbTpB"
      }
    },
    {
      "cell_type": "code",
      "source": [
        "#comprensión\n",
        "import pandas as pd\n",
        "import random\n",
        "def menu(C,E,N,n):\n",
        "  b = int(input('Menú; \\n1) Añadir contacto \\n2) Eliminar contacto \\n4) Darle emojis aleatorios \\n'))\n",
        "  if b == 1: #Añade contactos\n",
        "    d = input('Nombre ') #Ingresa el nombre\n",
        "    f = d in N #Si el nombre ya esta en los contactos f es True, sino es false\n",
        "    while f==True:\n",
        "      d = input('Ya existe un contacto con ese nombre, escoja otro ')\n",
        "      f = d in C['Nombre']\n",
        "    e = input('Numero ') #Ingresa el numero\n",
        "    N.append(d) #Añade el nombre de la lista N\n",
        "    n.append(e) #Añade el numero a la lista n\n",
        "  if b==2: #Elimina contactos\n",
        "    o = int(input('1) Eliminar por nombre \\n2) Eliminar por número\\n')) #Da dos opciones para eliminar un contacto\n",
        "    if o == 1: #Eliminar por nombre\n",
        "      d = input('Nombre ') #Ingresa el nombre\n",
        "      f = d in N #Si el nombre ya esta en los contactos f es True, sino es false\n",
        "      if f==False: #Si ese contacto no existe en la lista\n",
        "        print(\"No existe un contacto con ese nombre\")\n",
        "      else:\n",
        "        i=N.index(d) #Busca la posición del Nombre\n",
        "        N.pop(i) #Elimina el nombre en esa posición\n",
        "        n.pop(i) #Elimina el nombre en esa posición\n",
        "    if o==2: #Eliminar por numero\n",
        "      e = input(\"Numero \") #Ingresa el número\n",
        "      h = e in N #Si el numero ya esta en los contactos h es True, sino es false\n",
        "      if h == False: #Si ese contacto no existe en la lista\n",
        "        print(\"No existe un contacto con ese numero\")\n",
        "      else:\n",
        "        i=n.index(e) #Busca la posición del Nombre\n",
        "        N.pop(i) #Elimina el nombre de esa posición\n",
        "        n.pop(i) #Elimina el número en esa posición\n",
        "    if b == 3: #Imprime la lista de contactos\n",
        "      C={N[z]: n[z] for z in range (len(N))}\n",
        "      print(C)\n",
        "    if b == 4: #Le da emojis aleatorios a los contactos\n",
        "      C={N[z]: (n[z], E[random.randint(0,3)]) for z in range(len(N))}\n",
        "      print(pd.DataFrame.from_dict(C))#La imprime bonito con pandas\n",
        "\n",
        "    return C\n",
        "\n",
        "C = {}\n",
        "E = ['B)', ':)', '<3', '>:v'] #Emojis\n",
        "N = ['Juan', 'Kyle']#Nombres default\n",
        "n = ['453', '64782']#Números default\n",
        "\n",
        "a = True\n",
        "while a == True:\n",
        "  menu(C,E,N,n)"
      ],
      "metadata": {
        "id": "ggY5L13fbXqD"
      },
      "execution_count": null,
      "outputs": []
    },
    {
      "cell_type": "code",
      "source": [
        "#lambda\n",
        "import pandas as pd\n",
        "import random\n",
        "def menu(C,E,N,n):\n",
        "  b = int(input('Menú; \\n1) Añadir contacto \\n2) Eliminar contacto \\n4) Darle emojis aleatorios \\n'))\n",
        "  if b == 1: #Añade contactos\n",
        "    d = input('Nombre ') #Ingresa el nombre\n",
        "    f = d in N #Si el nombre ya esta en los contactos f es True, sino es false\n",
        "    while f==True:\n",
        "      d = input('Ya existe un contacto con ese nombre, escoja otro ')\n",
        "      f = d in C['Nombre']\n",
        "    e = input('Numero ') #Ingresa el numero\n",
        "    N.append(d) #Añade el nombre de la lista N\n",
        "    n.append(e) #Añade el numero a la lista n\n",
        "  if b==2: #Elimina contactos\n",
        "    o = int(input('1) Eliminar por nombre \\n2) Eliminar por número\\n')) #Da dos opciones para eliminar un contacto\n",
        "    if o == 1: #Eliminar por nombre\n",
        "      d = input('Nombre ') #Ingresa el nombre\n",
        "      f = d in N #Si el nombre ya esta en los contactos f es True, sino es false\n",
        "      if f==False: #Si ese contacto no existe en la lista\n",
        "        print(\"No existe un contacto con ese nombre\")\n",
        "      else:\n",
        "        i=N.index(d) #Busca la posición del Nombre\n",
        "        N.pop(i) #Elimina el nombre en esa posición\n",
        "        n.pop(i) #Elimina el nombre en esa posición\n",
        "    if o==2: #Eliminar por numero\n",
        "      e = input(\"Numero \") #Ingresa el número\n",
        "      h = e in N #Si el numero ya esta en los contactos h es True, sino es false\n",
        "      if h == False: #Si ese contacto no existe en la lista\n",
        "        print(\"No existe un contacto con ese numero\")\n",
        "      else:\n",
        "        i=n.index(e) #Busca la posición del Nombre\n",
        "        N.pop(i) #Elimina el nombre de esa posición\n",
        "        n.pop(i) #Elimina el número en esa posición\n",
        "    if b == 3: #Imprime la lista de contactos\n",
        "      C = dict(map(lambda Nombre: (Nombre, n[N.index(Nombre)]),N)) #Lambda\n",
        "      print(C)\n",
        "    if b == 4: #Le da emojis aleatorios a los contactos\n",
        "      C = dict(map(lambda Nombre:(Nombre, (n[N.index(Nombre)], E[random.randint(0,3)])),N)) #Lambda\n",
        "      print(pd.DataFrame.from_dict(C))#La imprime bonito con pandas\n",
        "\n",
        "    return C\n",
        "\n",
        "C = {}\n",
        "E = ['B)', ':)', '<3', '>:v'] #Emojis\n",
        "N = ['Juan', 'Kyle']#Nombres default\n",
        "n = ['453', '64782']#Números default\n",
        "\n",
        "a = True\n",
        "while a == True:\n",
        "  menu(C,E,N,n)"
      ],
      "metadata": {
        "id": "8r_jthcPhQ1a"
      },
      "execution_count": null,
      "outputs": []
    }
  ]
}