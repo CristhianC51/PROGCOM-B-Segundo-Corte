{
  "nbformat": 4,
  "nbformat_minor": 0,
  "metadata": {
    "colab": {
      "provenance": []
    },
    "kernelspec": {
      "name": "python3",
      "display_name": "Python 3"
    },
    "language_info": {
      "name": "python"
    }
  },
  "cells": [
    {
      "cell_type": "code",
      "execution_count": 7,
      "metadata": {
        "id": "XwFz3vOonrtC",
        "colab": {
          "base_uri": "https://localhost:8080/"
        },
        "outputId": "bac7d0c0-975b-46b7-ea8d-0270fce57866"
      },
      "outputs": [
        {
          "output_type": "stream",
          "name": "stdout",
          "text": [
            "6561 / 390625\n",
            "5 / 5\n",
            "35 / 5\n",
            "20 / 15\n"
          ]
        }
      ],
      "source": [
        "#by Cristhian Caballero\n",
        "class Fraccion:\n",
        "  def __init__(self,num,den,pot):\n",
        "    self.num=num\n",
        "    self.den=den\n",
        "    self.pot=pot\n",
        "\n",
        "  def potencia (self):\n",
        "    if self.pot==0:\n",
        "      num=1\n",
        "      den=1\n",
        "    elif self.pot<0:\n",
        "      self.num, self.den = self.den , self.num\n",
        "      self.pot=self.pot*-1\n",
        "      num = self.num**self.pot\n",
        "      den = self.den**self.pot\n",
        "\n",
        "    else:\n",
        "      num=self.num**self.pot\n",
        "      den=self.den**self.pot\n",
        "      pot=self.pot\n",
        "    c=Fraccion(num,den,pot)\n",
        "    print(f'{c.num} / {c.den}')\n",
        "    return c\n",
        "\n",
        "  def suma(self,s):\n",
        "    if self.den == 0 or s.den==0:\n",
        "      print(\"No se puede dividir entre 0\")\n",
        "    else:\n",
        "      if self.den!=s.den:\n",
        "        num=(self.num*s.den)+(self.den*s.num)\n",
        "        den=self.den*s.den\n",
        "      else:\n",
        "        num=(self.num*s.den)+(self.den*s.num)\n",
        "        den=self.den\n",
        "    f=Fraccion(num,den,1)\n",
        "    print(f'{f.num} / {f.den}')\n",
        "    return f\n",
        "\n",
        "  def resta(self,s):\n",
        "    if self.den==0 or s.den==0:\n",
        "      print(\"No se puede dividir entre 0\")\n",
        "    else:\n",
        "      if self.den!=s.den:\n",
        "        num=(self.num*s.den)-(self.den*s.num)\n",
        "        den=self.den*s.denden\n",
        "      else:\n",
        "        num=(self.num*s.den)-(self.den*s.num)\n",
        "        den=self.den\n",
        "    f=Fraccion(num,den,1)\n",
        "    print(f'{f.num} / {f.den}')\n",
        "    return f\n",
        "\n",
        "  def producto(self,s):\n",
        "    num=self.num*s.den\n",
        "    den=self.den*s.den\n",
        "    fr=Fraccion(num,den,1)\n",
        "    return f'{fr.num} / {fr.den}'\n",
        "\n",
        "  def imprimir(self):\n",
        "    print(f'{self.num} / {self.den}')\n",
        "\n",
        "  def div(self,c):\n",
        "    num=self.num*c.den\n",
        "    den=self.den*c.num\n",
        "    frac=Fraccion(num,den,1)\n",
        "    return f'{frac.num} / {frac.den}'\n",
        "\n",
        "\n",
        "s = Fraccion(3,5,8)\n",
        "s.__dict__\n",
        "s.potencia()\n",
        "t=Fraccion(4,5,1)\n",
        "yo = t.resta(s)\n",
        "t.suma(s)\n",
        "t.producto(yo)\n",
        "a=t.div(s)\n",
        "print(a)"
      ]
    }
  ]
}