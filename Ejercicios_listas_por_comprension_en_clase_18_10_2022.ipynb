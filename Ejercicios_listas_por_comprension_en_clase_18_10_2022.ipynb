{
  "nbformat": 4,
  "nbformat_minor": 0,
  "metadata": {
    "colab": {
      "provenance": [],
      "collapsed_sections": []
    },
    "kernelspec": {
      "name": "python3",
      "display_name": "Python 3"
    },
    "language_info": {
      "name": "python"
    }
  },
  "cells": [
    {
      "cell_type": "markdown",
      "source": [
        "#Pares e impares \n"
      ],
      "metadata": {
        "id": "4F_HiS-Km89U"
      }
    },
    {
      "cell_type": "markdown",
      "source": [
        "##Ejemplo de Jesus"
      ],
      "metadata": {
        "id": "z7BpwsWqrgc2"
      }
    },
    {
      "cell_type": "code",
      "source": [
        "#Comprensión\n",
        "n=int(input(\"Hasta que número quieres imprimir los pares e impares: \"))\n",
        "pares=[número for número in range(0,n+1) if número%2==0]\n",
        "print(pares)\n",
        "impares=[número for número in range(0,n+1) if número%2!=0]\n",
        "print(impares)"
      ],
      "metadata": {
        "colab": {
          "base_uri": "https://localhost:8080/"
        },
        "id": "6lwCJMtyrn-W",
        "outputId": "93897743-0bc6-4eef-f370-e63b06bf2634"
      },
      "execution_count": null,
      "outputs": [
        {
          "output_type": "stream",
          "name": "stdout",
          "text": [
            "Hasta que número quieres imprimir los pares e impares: 2\n",
            "[0, 2]\n",
            "[1]\n"
          ]
        }
      ]
    },
    {
      "cell_type": "code",
      "source": [
        "#Tradicional\n",
        "num=int(input(\"hasta que número quieres imprimir los pares e impares: \"))\n",
        "def hola(n):\n",
        " pares=[número for número in range(0,n+1) if número%2==0]\n",
        " print(pares)\n",
        " impares=[número for número in range(0,n+1) if número%2!=0]\n",
        " print(impares)\n",
        "hola(num)"
      ],
      "metadata": {
        "colab": {
          "base_uri": "https://localhost:8080/"
        },
        "id": "W_w6BZUrrsDP",
        "outputId": "50491a74-44a7-432a-dec1-b4da121c68d0"
      },
      "execution_count": null,
      "outputs": [
        {
          "output_type": "stream",
          "name": "stdout",
          "text": [
            "hasta que número quieres imprimir los pares e impares: 3\n",
            "[0, 2]\n",
            "[1, 3]\n"
          ]
        }
      ]
    },
    {
      "cell_type": "code",
      "source": [
        "#Lambda\n",
        "num=int(input(\"hasta que número quieres imprimir los pares e impares: \"))\n",
        "mi_lista=[n for n in range(0,num+1)]\n",
        "pares=list(filter(lambda num:num%2==0,mi_lista))\n",
        "print(pares)\n",
        "impares=list(filter(lambda num:num%2!=0,mi_lista))\n",
        "print(impares)"
      ],
      "metadata": {
        "colab": {
          "base_uri": "https://localhost:8080/"
        },
        "id": "LIX-AGfnrvfG",
        "outputId": "b18a93ca-2daa-483f-cd26-dcc87434f16c"
      },
      "execution_count": null,
      "outputs": [
        {
          "output_type": "stream",
          "name": "stdout",
          "text": [
            "hasta que número quieres imprimir los pares e impares: 3\n",
            "[0, 2]\n",
            "[1, 3]\n"
          ]
        }
      ]
    },
    {
      "cell_type": "markdown",
      "source": [
        "##Ejemplo de Samuel"
      ],
      "metadata": {
        "id": "8RWDYdnMp-Wi"
      }
    },
    {
      "cell_type": "code",
      "execution_count": null,
      "metadata": {
        "colab": {
          "base_uri": "https://localhost:8080/"
        },
        "id": "sNZANi5Nma68",
        "outputId": "ff90d6a0-4804-4ca9-98e4-4c17755f26df"
      },
      "outputs": [
        {
          "name": "stdout",
          "output_type": "stream",
          "text": [
            "Hasta que numero quieres imprimir los pares e impares2\n"
          ]
        },
        {
          "output_type": "execute_result",
          "data": {
            "text/plain": [
              "[1]"
            ]
          },
          "metadata": {},
          "execution_count": 4
        }
      ],
      "source": [
        "#Comprensión\n",
        "n=int(input(\"Hasta que numero quieres imprimir los pares e impares\"))\n",
        "pares = [numero for numero in range(0,n+1) if numero%2==0]\n",
        "pares\n",
        "impares=[numero for numero in range(0,n+1) if numero%2!=0]\n",
        "impares"
      ]
    },
    {
      "cell_type": "code",
      "source": [
        "#Tradicional con def\n",
        "num=int(input(\"Hasta que numero quieres imprimir los pares e impares\"))\n",
        "def hola(n):\n",
        "  pares = [numero for numero in range(0,n+1) if numero%2==0]\n",
        "  pares\n",
        "  impares=[numero for numero in range(0,n+1) if numero%2!=0]\n",
        "  impares\n",
        "hola(num)"
      ],
      "metadata": {
        "colab": {
          "base_uri": "https://localhost:8080/"
        },
        "id": "owYkghjunB3z",
        "outputId": "97a9772d-5e9d-4c3b-c137-62a0b072d077"
      },
      "execution_count": null,
      "outputs": [
        {
          "name": "stdout",
          "output_type": "stream",
          "text": [
            "Hasta que numero quieres imprimir los pares e impares2\n"
          ]
        }
      ]
    },
    {
      "cell_type": "code",
      "source": [
        "#Con lambda y filter\n",
        "num=int(input(\"Hasta que numero quieres imprimir los pares e impares\"))\n",
        "mi_lista = [n for n in range(0,num+1)]\n",
        "pares = list(filter(lambda num:num%2==0, mi_lista))\n",
        "pares\n",
        "impares = list(filter(lambda num:num%2!=0, mi_lista))\n",
        "impares"
      ],
      "metadata": {
        "colab": {
          "base_uri": "https://localhost:8080/"
        },
        "id": "J-Fx7KL7nWdi",
        "outputId": "e6e61755-12fa-426f-ff2c-fbf604900f88"
      },
      "execution_count": null,
      "outputs": [
        {
          "name": "stdout",
          "output_type": "stream",
          "text": [
            "Hasta que numero quieres imprimir los pares e impares3\n"
          ]
        },
        {
          "output_type": "execute_result",
          "data": {
            "text/plain": [
              "[1, 3]"
            ]
          },
          "metadata": {},
          "execution_count": 3
        }
      ]
    },
    {
      "cell_type": "markdown",
      "source": [
        "##Ejemplo de Jhonsito"
      ],
      "metadata": {
        "id": "yegNyuzJoF6b"
      }
    },
    {
      "cell_type": "code",
      "source": [
        "#Tradicional\n",
        "def perfecto(numero):\n",
        "  perf=0\n",
        "  for i in range(1,numero):\n",
        "    if numero%i==0:\n",
        "      perf+=i\n",
        "  if perf==numero:\n",
        "    print(\"Es un numero perfecto\")\n",
        "    return True\n",
        "  else:\n",
        "    print(\"No es un numero perfecto\")\n",
        "numero = 6\n",
        "perfecto(numero)"
      ],
      "metadata": {
        "colab": {
          "base_uri": "https://localhost:8080/"
        },
        "id": "y-6r3sekodsF",
        "outputId": "92caf7d8-14e8-4c8d-bf7b-7fba92f8b9cc"
      },
      "execution_count": null,
      "outputs": [
        {
          "output_type": "stream",
          "name": "stdout",
          "text": [
            "Es un numero perfecto\n"
          ]
        },
        {
          "output_type": "execute_result",
          "data": {
            "text/plain": [
              "True"
            ]
          },
          "metadata": {},
          "execution_count": 10
        }
      ]
    },
    {
      "cell_type": "code",
      "source": [
        "#Comprensión\n",
        "def numeros():\n",
        "  a = int(input(\"Ingresa un numero\"))\n",
        "  b = int(input(\"Ingresa un numero\"))\n",
        "  c = int(input(\"Ingresa un numero\"))\n",
        "  d = int(input(\"Ingresa un numero\"))\n",
        "  perfect=[a,b,c,d]\n",
        "\n",
        "  perfect1=[elemento for elemento in perfect if perfecto(elemento)==True]\n",
        "numeros()"
      ],
      "metadata": {
        "colab": {
          "base_uri": "https://localhost:8080/"
        },
        "id": "0jz0lAuHo8dM",
        "outputId": "8dd828bc-b588-491e-f5e2-04f1a74000ab"
      },
      "execution_count": null,
      "outputs": [
        {
          "output_type": "stream",
          "name": "stdout",
          "text": [
            "Ingresa un numero2\n",
            "Ingresa un numero4\n",
            "Ingresa un numero5\n",
            "Ingresa un numero6\n",
            "No es un numero perfecto\n",
            "No es un numero perfecto\n",
            "No es un numero perfecto\n",
            "Es un numero perfecto\n"
          ]
        }
      ]
    },
    {
      "cell_type": "code",
      "source": [
        "#Con lambda y map\n",
        "lista = [2,3,6,4]\n",
        "perfect2 = list(map(lambda elemento:perfecto(elemento)==True,lista))\n",
        "perfect2"
      ],
      "metadata": {
        "colab": {
          "base_uri": "https://localhost:8080/"
        },
        "id": "rC9Wd8Erpi1F",
        "outputId": "d10b911c-bb73-4108-a7cd-70220182c913"
      },
      "execution_count": null,
      "outputs": [
        {
          "output_type": "stream",
          "name": "stdout",
          "text": [
            "No es un numero perfecto\n",
            "No es un numero perfecto\n",
            "Es un numero perfecto\n",
            "No es un numero perfecto\n"
          ]
        },
        {
          "output_type": "execute_result",
          "data": {
            "text/plain": [
              "[False, False, True, False]"
            ]
          },
          "metadata": {},
          "execution_count": 9
        }
      ]
    },
    {
      "cell_type": "markdown",
      "source": [
        "##Ejemplo de Juan David\n"
      ],
      "metadata": {
        "id": "FI0HQs6Yp7Tz"
      }
    },
    {
      "cell_type": "code",
      "source": [
        "import random \n",
        "#metodo clasico\n",
        "numero1 = [random.randint(0,2000) for x in range(100)]\n",
        "numero2 = [random.randint(0,2000) for x in range(100)]\n",
        "comun = []\n",
        "for a in numero1:\n",
        "  for b in numero2:\n",
        "    if a == b:\n",
        "      comun.append(a)\n",
        "print(comun)"
      ],
      "metadata": {
        "colab": {
          "base_uri": "https://localhost:8080/"
        },
        "id": "JaSoWgsuqFmi",
        "outputId": "599829dd-af2e-4f3e-fddf-8ce8916c49e4"
      },
      "execution_count": null,
      "outputs": [
        {
          "output_type": "stream",
          "name": "stdout",
          "text": [
            "[1817, 746, 1241, 1824, 1178, 1086, 1105]\n"
          ]
        }
      ]
    },
    {
      "cell_type": "code",
      "source": [
        "import random\n",
        "#Por comprensión\n",
        "numero1 = [random.randint(0,2000) for x in range(100)]\n",
        "numero2 = [random.randint(0,2000) for x in range(100)]\n",
        "comun = [(x, y) for x in numero1 for y in numero2 if x==y]\n",
        "print(comun)"
      ],
      "metadata": {
        "colab": {
          "base_uri": "https://localhost:8080/"
        },
        "id": "5mOhEwltnGFb",
        "outputId": "c2789ebb-1bce-4309-e2b2-b06646e67390"
      },
      "execution_count": null,
      "outputs": [
        {
          "output_type": "stream",
          "name": "stdout",
          "text": [
            "[(1510, 1510), (1289, 1289), (1522, 1522), (941, 941), (1557, 1557), (1952, 1952)]\n"
          ]
        }
      ]
    },
    {
      "cell_type": "code",
      "source": [
        "import random\n",
        "#lambda y filter\n",
        "numero1 = [random.randint(0,2000) for x in range(100)]\n",
        "numero2 = [random.randint(0,2000) for x in range(100)]\n",
        "comun = []\n",
        "comun = list(filter(lambda num: num in numero1, numero2))\n",
        "print(comun)"
      ],
      "metadata": {
        "colab": {
          "base_uri": "https://localhost:8080/"
        },
        "id": "wO4HC-zOqkKm",
        "outputId": "8154cd51-6862-456f-9521-5a1f41e1017b"
      },
      "execution_count": null,
      "outputs": [
        {
          "output_type": "stream",
          "name": "stdout",
          "text": [
            "[1261, 1357, 988, 1150, 1810]\n"
          ]
        }
      ]
    },
    {
      "cell_type": "markdown",
      "source": [
        "##Ejercicio de Daniel Alarcon"
      ],
      "metadata": {
        "id": "wbTy1VwMmJU8"
      }
    },
    {
      "cell_type": "code",
      "source": [
        "#lambda\n",
        "lambda_func = lambda x: x**2\n",
        "lambda_func(3)"
      ],
      "metadata": {
        "colab": {
          "base_uri": "https://localhost:8080/"
        },
        "id": "cAwPvy5LpUp5",
        "outputId": "8bc6ae98-1d3f-406c-cf57-e9841723c75e"
      },
      "execution_count": null,
      "outputs": [
        {
          "output_type": "execute_result",
          "data": {
            "text/plain": [
              "9"
            ]
          },
          "metadata": {},
          "execution_count": 7
        }
      ]
    },
    {
      "cell_type": "code",
      "source": [
        "#tradicional\n",
        "def square1(num):\n",
        "  return num**2\n",
        "print(square1(5))"
      ],
      "metadata": {
        "colab": {
          "base_uri": "https://localhost:8080/"
        },
        "id": "yyd0qvIVrJAu",
        "outputId": "93e566cb-abed-4502-df5a-996c62f289fe"
      },
      "execution_count": null,
      "outputs": [
        {
          "output_type": "stream",
          "name": "stdout",
          "text": [
            "25\n"
          ]
        }
      ]
    },
    {
      "cell_type": "code",
      "source": [
        "#comprensión\n",
        "L = [2,4,6,8]\n",
        "L2 = [n**2 for n in L]\n",
        "print(L2)"
      ],
      "metadata": {
        "colab": {
          "base_uri": "https://localhost:8080/"
        },
        "id": "KqYzeKtDrN6A",
        "outputId": "0e88979a-d50d-42dd-834e-9c7fd8018f31"
      },
      "execution_count": null,
      "outputs": [
        {
          "output_type": "stream",
          "name": "stdout",
          "text": [
            "[4, 16, 36, 64]\n"
          ]
        }
      ]
    },
    {
      "cell_type": "markdown",
      "source": [
        "##Ejercicio de Angie Gonzales\n"
      ],
      "metadata": {
        "id": "Zi_ptzfHrqOw"
      }
    },
    {
      "cell_type": "code",
      "source": [
        "#Por comprensión\n",
        "nom1 = ['Samuelle', 'Angie', 'Valentina', 'Alejandro', 'Jhonsito']\n",
        "nom2 = ['Samuelle', 'Andrea', 'Samdra', ' Anderson', 'Jhonsito']\n",
        "common = {a for a in nom1 for b in nom2 if a == b}\n",
        "common"
      ],
      "metadata": {
        "colab": {
          "base_uri": "https://localhost:8080/"
        },
        "id": "-8tV_VdDr6xm",
        "outputId": "c563b135-b8c0-43b3-c6ea-ad557ce622da"
      },
      "execution_count": null,
      "outputs": [
        {
          "output_type": "execute_result",
          "data": {
            "text/plain": [
              "{'Jhonsito', 'Samuelle'}"
            ]
          },
          "metadata": {},
          "execution_count": 10
        }
      ]
    },
    {
      "cell_type": "code",
      "source": [
        "#Por lambda\n",
        "common1 = lambda nom1, nom2:common\n",
        "print(common1(nom1,nom2))"
      ],
      "metadata": {
        "colab": {
          "base_uri": "https://localhost:8080/"
        },
        "id": "78Fnb7MLuvfK",
        "outputId": "ced8d102-7a44-4266-fa0f-b0aa6e02413f"
      },
      "execution_count": null,
      "outputs": [
        {
          "output_type": "stream",
          "name": "stdout",
          "text": [
            "{'Samuelle', 'Jhonsito'}\n"
          ]
        }
      ]
    },
    {
      "cell_type": "code",
      "source": [
        "#Por def\n",
        "def common(nom1, nom2):\n",
        "  return nom1, nom2\n",
        "common(nom1, nom2)"
      ],
      "metadata": {
        "colab": {
          "base_uri": "https://localhost:8080/"
        },
        "id": "Jcw79VPnu4Di",
        "outputId": "85368f92-50e4-49b9-a85b-cfec3e6958c2"
      },
      "execution_count": null,
      "outputs": [
        {
          "output_type": "execute_result",
          "data": {
            "text/plain": [
              "(['Samuelle', 'Angie', 'Valentina', 'Alejandro', 'Jhonsito'],\n",
              " ['Samuelle', 'Andrea', 'Samdra', ' Anderson', 'Jhonsito'])"
            ]
          },
          "metadata": {},
          "execution_count": 13
        }
      ]
    },
    {
      "cell_type": "markdown",
      "source": [
        "##Ejercicio Valentina\n"
      ],
      "metadata": {
        "id": "bcEj1bwOwI98"
      }
    },
    {
      "cell_type": "code",
      "source": [
        "#Tradicional\n",
        "def listaIMC(usuarios):\n",
        "  sis = []\n",
        "  imc = []\n",
        "  b = 0\n",
        "  a2 = 0\n",
        "  for n in range (usuarios):\n",
        "    w = input(\"¿Cual es tu nombre?\")\n",
        "    b = int(input(\"Ingresa el peso\"))\n",
        "    a2 = int(input(\"Ingresa la altura\"))\n",
        "    sis.append((w,b/a2**2))\n",
        "    imc.append(b/a2**2)\n",
        "  return sis, imc\n",
        "\n",
        "user = int(input(\"¿Cuántos usuarios hay?\"))\n",
        "sis, imc = listaIMC(user)\n"
      ],
      "metadata": {
        "colab": {
          "base_uri": "https://localhost:8080/"
        },
        "id": "rnKYCGQxwLxU",
        "outputId": "29bdfa64-84ff-4da1-8510-7b34ea0444ff"
      },
      "execution_count": null,
      "outputs": [
        {
          "name": "stdout",
          "output_type": "stream",
          "text": [
            "¿Cuántos usuarios hay?1\n",
            "¿Cual es tu nombre?A\n",
            "Ingresa el peso68\n",
            "Ingresa la altura190\n"
          ]
        }
      ]
    },
    {
      "cell_type": "code",
      "source": [
        "imc"
      ],
      "metadata": {
        "colab": {
          "base_uri": "https://localhost:8080/"
        },
        "id": "LsM8Blp4xyKd",
        "outputId": "8591b4af-c6ee-4f83-e53c-e2c0ba752a1d"
      },
      "execution_count": null,
      "outputs": [
        {
          "output_type": "execute_result",
          "data": {
            "text/plain": [
              "[0.0018836565096952908]"
            ]
          },
          "metadata": {},
          "execution_count": 16
        }
      ]
    },
    {
      "cell_type": "code",
      "source": [
        "#comprensión\n",
        "sis=listaIMC(user)\n",
        "sis2=[n for n in imc if n>=18.5]\n",
        "print(sis2)"
      ],
      "metadata": {
        "colab": {
          "base_uri": "https://localhost:8080/"
        },
        "id": "CDizE4mtx_bl",
        "outputId": "72d5fbe0-f5bc-4e9e-d77d-a6b141b79ccb"
      },
      "execution_count": null,
      "outputs": [
        {
          "output_type": "stream",
          "name": "stdout",
          "text": [
            "¿Cual es tu nombre?A\n",
            "Ingresa el peso68\n",
            "Ingresa la altura190\n",
            "[]\n"
          ]
        }
      ]
    },
    {
      "cell_type": "code",
      "source": [
        "#lambda\n",
        "sis3 = list(map(lambda x: 'peso insuficiente' if x<18.5 else \"peso normal\" if (x>=18.5 and x<24.9) else \"sobrepeso\" if (x>= 24.9 and x<30) else \"obesida\", imc))\n",
        "sis3"
      ],
      "metadata": {
        "colab": {
          "base_uri": "https://localhost:8080/"
        },
        "id": "JkKmkLDQyMW1",
        "outputId": "35d3cb71-e327-4b3f-8691-411150bd8cff"
      },
      "execution_count": null,
      "outputs": [
        {
          "output_type": "execute_result",
          "data": {
            "text/plain": [
              "['peso insuficiente']"
            ]
          },
          "metadata": {},
          "execution_count": 20
        }
      ]
    },
    {
      "cell_type": "markdown",
      "source": [
        "##Ejercicio de Luis Miguel"
      ],
      "metadata": {
        "id": "Mbulhxurzcy6"
      }
    },
    {
      "cell_type": "code",
      "source": [
        "#normal\n",
        "print(\"Ingrese su codigo\")\n",
        "caracter = input()\n",
        "if len(caracter)==8:\n",
        "  if caracter[0]=='u':\n",
        "    print(\"Eres Estudiante Unab\")\n",
        "  elif (caracter.startswith('a000')):\n",
        "    print(\"Eres estudiante de los andes\")\n",
        "  else:\n",
        "    if(int(caracter)>=1950):\n",
        "      print(\"Eres estudiante UIS\")\n",
        "else:\n",
        "  print(\"No corresponde a ninguna universidad, revisa tu codigo\")"
      ],
      "metadata": {
        "colab": {
          "base_uri": "https://localhost:8080/"
        },
        "id": "m0yaPayTzgIi",
        "outputId": "5b679ef0-e8ae-44a5-9b37-7ca5152e7423"
      },
      "execution_count": null,
      "outputs": [
        {
          "output_type": "stream",
          "name": "stdout",
          "text": [
            "Ingrese su codigo\n",
            "a00015\n",
            "No corresponde a ninguna universidad, revisa tu codigo\n"
          ]
        }
      ]
    },
    {
      "cell_type": "code",
      "source": [
        "#por comprension\n",
        "universidades = ['unab', 'uis', 'andes']\n",
        "codigo = ['U0123456', '1988562', 'a0005645']\n",
        "\n",
        "u=[cod for cod in codigo if (cod[0]=='u' and len(cod)==8)]\n",
        "print(u)"
      ],
      "metadata": {
        "id": "ZQJUZnJc4j0t"
      },
      "execution_count": null,
      "outputs": []
    },
    {
      "cell_type": "code",
      "source": [
        "y = list(map(lambda x:'unab' if (x[0]=='U' and len(cod)==8)))"
      ],
      "metadata": {
        "id": "CIpiDKd25Bvs"
      },
      "execution_count": null,
      "outputs": []
    },
    {
      "cell_type": "markdown",
      "source": [
        "##Ejercicio Cristhian Caballero"
      ],
      "metadata": {
        "id": "GUF2mC7s36Y1"
      }
    },
    {
      "cell_type": "code",
      "source": [
        "#normal\n",
        "lista=[]\n",
        "x = 0\n",
        "while x==0:\n",
        "  entrada = input(\"Ingresa un codigo\")\n",
        "  lista.append(entrada)\n",
        "  a=int(input(\"¿Deseas ingresa otro?, Ingresa 0 si lo deseas, sino ingresa 1\"))\n",
        "  if (a==1):\n",
        "    x=x+1\n",
        "\n",
        "clasificacion = [a for a in lista if a.startswith(\"U00\") or a.startswith('u00') and len(a)==9]\n",
        "print(f'Hay {len(clasificacion)} estudiante(s) de la Unab y sus codigo(s) son {clasificacion}')\n",
        "\n",
        "clasificacion = [a for a in lista if a.startswith(\"A000\") or a.startswith('a000') and len(a)==9]\n",
        "print(f'Hay {len(clasificacion)} estudiante(s) de los Andes y sus codigo(s) son {clasificacion}')"
      ],
      "metadata": {
        "colab": {
          "base_uri": "https://localhost:8080/"
        },
        "id": "mca_MU4638gF",
        "outputId": "7283e465-f7ec-414c-f937-aa7c8ceedfc0"
      },
      "execution_count": null,
      "outputs": [
        {
          "output_type": "stream",
          "name": "stdout",
          "text": [
            "Ingresa un codigoU00158478\n",
            "¿Deseas ingresa otro?, Ingresa 0 si lo deseas, sino ingresa 11\n",
            "Hay 1 estudiante(s) de la Unab y sus codigo(s) son ['U00158478']\n",
            "Hay 0 estudiante(s) de los Andes y sus codigo(s) son []\n"
          ]
        }
      ]
    },
    {
      "cell_type": "code",
      "source": [
        "#con def\n",
        "def funcion(lista, numDigitos, Universidad,clasCodigo, min):\n",
        "  clasificacion = [a for a in lista if a.startswith(clasCodigo) or a.startswith(min) and len(a)==numDigitos]\n",
        "  print(f'Hay {len(clasificacion)} estudiante(s) de {Universidad} y sus codigo(s) son {clasificacion}')\n",
        "\n",
        "lista=[]\n",
        "x = 0\n",
        "while x==0:\n",
        "  entrada = input(\"Ingresa un codigo\")\n",
        "  lista.append(entrada)\n",
        "  a=int(input(\"¿Deseas ingresa otro?, Ingresa 0 si lo deseas, sino ingresa 1\"))\n",
        "  if (a==1):\n",
        "    x=x+1\n",
        "\n",
        "funcion(lista,9,'la Unab','U00', 'u00')\n",
        "funcion(lista,9,'los Andes','A000', 'a000')"
      ],
      "metadata": {
        "colab": {
          "base_uri": "https://localhost:8080/"
        },
        "id": "qGUlKeOx3-UO",
        "outputId": "91a836ef-207b-408f-fbdf-32bff876936a"
      },
      "execution_count": null,
      "outputs": [
        {
          "output_type": "stream",
          "name": "stdout",
          "text": [
            "Ingresa un codigoU00158478\n",
            "¿Deseas ingresa otro?, Ingresa 0 si lo deseas, sino ingresa 11\n",
            "Hay 1 estudiante(s) de la Unab y sus codigo(s) son ['U00158478']\n",
            "Hay 0 estudiante(s) de los Andes y sus codigo(s) son []\n"
          ]
        }
      ]
    },
    {
      "cell_type": "code",
      "source": [
        "#con lambda\n",
        "lista=[]\n",
        "x = 0\n",
        "while x==0:\n",
        "  entrada = input(\"Ingresa un codigo\")\n",
        "  lista.append(entrada)\n",
        "  a=int(input(\"¿Deseas ingresa otro?, Ingresa 0 si lo deseas, sino ingresa 1\"))\n",
        "  if (a==1):\n",
        "    x=x+1\n",
        "lista1=[\"u00013246\",\"a001234643\",\"U00156837\"]\n",
        "clasificacion = list(map(lambda a:\"UNAB\" if a.startswith(\"U00\") or a.startswith(\"u00\")  else 'Los Andes' if a.startswith(\"A000\") or a.startswith(\"a000\") else None ,lista))\n",
        "clasificacion"
      ],
      "metadata": {
        "colab": {
          "base_uri": "https://localhost:8080/"
        },
        "id": "ebCImEM44Qvk",
        "outputId": "eabbe26e-b36c-40b0-c50f-d0d898079168"
      },
      "execution_count": null,
      "outputs": [
        {
          "name": "stdout",
          "output_type": "stream",
          "text": [
            "Ingresa un codigoU00158478\n",
            "¿Deseas ingresa otro?, Ingresa 0 si lo deseas, sino ingresa 11\n"
          ]
        },
        {
          "output_type": "execute_result",
          "data": {
            "text/plain": [
              "['UNAB']"
            ]
          },
          "metadata": {},
          "execution_count": 25
        }
      ]
    },
    {
      "cell_type": "markdown",
      "source": [
        "##Ejercicio Armith"
      ],
      "metadata": {
        "id": "OGlFCheh5WLT"
      }
    },
    {
      "cell_type": "code",
      "source": [
        "#Tradicional\n",
        "num=[1,2,3,4,5,6,7,8,9,10]\n",
        "exp=int(input(\"Escribe un exponente: \"))\n",
        "x=len(num)\n",
        "for n in range(1,(x)):\n",
        "  num[n]=num[n]**exp\n",
        "print(num)\n",
        "def imprimir(num):\n",
        "  s=1\n",
        "  for i in num:\n",
        "    print(f\"\\nEl resultado del elemento {s} de la lista es {i}\")\n",
        "    s+=1\n",
        "imprimir(num)"
      ],
      "metadata": {
        "id": "ASZ2t0hT5ZaM",
        "colab": {
          "base_uri": "https://localhost:8080/"
        },
        "outputId": "14e10555-7780-4c91-a867-c4374e01779f"
      },
      "execution_count": 3,
      "outputs": [
        {
          "output_type": "stream",
          "name": "stdout",
          "text": [
            "Escribe un exponente: 2\n",
            "[1, 4, 9, 16, 25, 36, 49, 64, 81, 100]\n",
            "\n",
            "El resultado del elemento 1 de la lista es 1\n",
            "\n",
            "El resultado del elemento 2 de la lista es 4\n",
            "\n",
            "El resultado del elemento 3 de la lista es 9\n",
            "\n",
            "El resultado del elemento 4 de la lista es 16\n",
            "\n",
            "El resultado del elemento 5 de la lista es 25\n",
            "\n",
            "El resultado del elemento 6 de la lista es 36\n",
            "\n",
            "El resultado del elemento 7 de la lista es 49\n",
            "\n",
            "El resultado del elemento 8 de la lista es 64\n",
            "\n",
            "El resultado del elemento 9 de la lista es 81\n",
            "\n",
            "El resultado del elemento 10 de la lista es 100\n"
          ]
        }
      ]
    },
    {
      "cell_type": "code",
      "source": [
        "num=[1,2,3,4,5,6,7,8,9,10]\n",
        "exp=int(input(\"Escribe un exponente: \"))\n",
        "números=[n**exp for n in num]\n",
        "números\n",
        "imprimir(números)"
      ],
      "metadata": {
        "colab": {
          "base_uri": "https://localhost:8080/"
        },
        "id": "t_eL5qtj0gsW",
        "outputId": "fdf02e45-a1d3-4175-b95e-ba525cca2a07"
      },
      "execution_count": 4,
      "outputs": [
        {
          "output_type": "stream",
          "name": "stdout",
          "text": [
            "Escribe un exponente: 2\n",
            "\n",
            "El resultado del elemento 1 de la lista es 1\n",
            "\n",
            "El resultado del elemento 2 de la lista es 4\n",
            "\n",
            "El resultado del elemento 3 de la lista es 9\n",
            "\n",
            "El resultado del elemento 4 de la lista es 16\n",
            "\n",
            "El resultado del elemento 5 de la lista es 25\n",
            "\n",
            "El resultado del elemento 6 de la lista es 36\n",
            "\n",
            "El resultado del elemento 7 de la lista es 49\n",
            "\n",
            "El resultado del elemento 8 de la lista es 64\n",
            "\n",
            "El resultado del elemento 9 de la lista es 81\n",
            "\n",
            "El resultado del elemento 10 de la lista es 100\n"
          ]
        }
      ]
    },
    {
      "cell_type": "code",
      "source": [
        "num=list(range(1,11))\n",
        "exp=int(input(\"Escribe un exponente: \"))\n",
        "números=lambda num,exp:(n**exp for n in num)\n",
        "número1=números(num,exp)\n",
        "imprimir(list(número1))"
      ],
      "metadata": {
        "colab": {
          "base_uri": "https://localhost:8080/"
        },
        "id": "ERa798fr0rao",
        "outputId": "927e7c65-782d-4c99-f34f-644cb39262b2"
      },
      "execution_count": 5,
      "outputs": [
        {
          "output_type": "stream",
          "name": "stdout",
          "text": [
            "Escribe un exponente: 2\n",
            "\n",
            "El resultado del elemento 1 de la lista es 1\n",
            "\n",
            "El resultado del elemento 2 de la lista es 4\n",
            "\n",
            "El resultado del elemento 3 de la lista es 9\n",
            "\n",
            "El resultado del elemento 4 de la lista es 16\n",
            "\n",
            "El resultado del elemento 5 de la lista es 25\n",
            "\n",
            "El resultado del elemento 6 de la lista es 36\n",
            "\n",
            "El resultado del elemento 7 de la lista es 49\n",
            "\n",
            "El resultado del elemento 8 de la lista es 64\n",
            "\n",
            "El resultado del elemento 9 de la lista es 81\n",
            "\n",
            "El resultado del elemento 10 de la lista es 100\n"
          ]
        }
      ]
    }
  ]
}