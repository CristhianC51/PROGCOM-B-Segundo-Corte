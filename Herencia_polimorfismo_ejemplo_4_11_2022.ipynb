{
  "nbformat": 4,
  "nbformat_minor": 0,
  "metadata": {
    "colab": {
      "provenance": [],
      "collapsed_sections": []
    },
    "kernelspec": {
      "name": "python3",
      "display_name": "Python 3"
    },
    "language_info": {
      "name": "python"
    }
  },
  "cells": [
    {
      "cell_type": "code",
      "execution_count": 5,
      "metadata": {
        "id": "CdEFvdF3gl_p"
      },
      "outputs": [],
      "source": [
        "class Perros():\n",
        "  def ladrar(self):\n",
        "    print(\"GUUUAU GUUUAU\")\n",
        "  \n",
        "  def grunir(self):\n",
        "    print(\"Grrrr Grrr\")"
      ]
    },
    {
      "cell_type": "code",
      "source": [
        "class Caniches(Perros):\n",
        "  def ladrar(self):\n",
        "    print(\"guau guau guau guau \")\n",
        "\n",
        "  def grunir(self):\n",
        "    print(\"gñiii gñiii gñiii\")"
      ],
      "metadata": {
        "id": "IsrVszprg8b5"
      },
      "execution_count": 4,
      "outputs": []
    },
    {
      "cell_type": "code",
      "source": [
        "class Pastor_Aleman(Perros):\n",
        "  def ladrar(self):\n",
        "    print(\"GuuaaUUU GUAAAUUUU\")\n",
        "\n",
        "  def gruñir(self):\n",
        "    print(\"Agrrgrrff agrrgrrff\")"
      ],
      "metadata": {
        "id": "bROCbkWZhY6o"
      },
      "execution_count": 6,
      "outputs": []
    },
    {
      "cell_type": "code",
      "source": [
        "class Shepadoodle(Caniches, Pastor_Aleman):\n",
        "  def xladrar(self,veces):\n",
        "    for cuantas in range(veces):\n",
        "      super(Shepadoodle,self).ladrar()"
      ],
      "metadata": {
        "id": "1vkKCkS2h1uw"
      },
      "execution_count": 10,
      "outputs": []
    },
    {
      "cell_type": "code",
      "source": [
        "Tommy = Pastor_Aleman()\n",
        "lulu = Caniches()\n",
        "milu = Shepadoodle()\n",
        "milu.xladrar(2)"
      ],
      "metadata": {
        "colab": {
          "base_uri": "https://localhost:8080/"
        },
        "id": "9W-8uEWLifq3",
        "outputId": "be2a7652-b063-40ad-e341-efbdb5cbdb6b"
      },
      "execution_count": 11,
      "outputs": [
        {
          "output_type": "stream",
          "name": "stdout",
          "text": [
            "guau guau guau guau \n",
            "guau guau guau guau \n"
          ]
        }
      ]
    },
    {
      "cell_type": "code",
      "source": [
        "class Asignar(list):\n",
        "  pass"
      ],
      "metadata": {
        "id": "7oPOowpYkWbI"
      },
      "execution_count": 12,
      "outputs": []
    },
    {
      "cell_type": "code",
      "source": [
        "a=Asignar()"
      ],
      "metadata": {
        "id": "4s2I69_Kka1W"
      },
      "execution_count": 13,
      "outputs": []
    },
    {
      "cell_type": "code",
      "source": [
        "a.append(4)"
      ],
      "metadata": {
        "id": "y-GKWdq-kcZA"
      },
      "execution_count": 14,
      "outputs": []
    },
    {
      "cell_type": "code",
      "source": [
        "a"
      ],
      "metadata": {
        "colab": {
          "base_uri": "https://localhost:8080/"
        },
        "id": "bR2kntsGkqG_",
        "outputId": "a560c590-89ca-47b3-e369-2dcd586d6edc"
      },
      "execution_count": 15,
      "outputs": [
        {
          "output_type": "execute_result",
          "data": {
            "text/plain": [
              "[4]"
            ]
          },
          "metadata": {},
          "execution_count": 15
        }
      ]
    },
    {
      "cell_type": "code",
      "source": [
        "class Padre():\n",
        "  def __init__ (self, ojos, cejas) -> None:\n",
        "    self.ojos=ojos\n",
        "    self.cejas=cejas\n",
        "\n",
        "class Hijo(Padre):\n",
        "  def __init__(self,ojos,cejas,cara):\n",
        "    self.ojos=ojos\n",
        "    self.cejas=cejas\n",
        "    self.cara=cara"
      ],
      "metadata": {
        "id": "yWpbJH76kqgP"
      },
      "execution_count": 17,
      "outputs": []
    },
    {
      "cell_type": "code",
      "source": [
        "manuel=Padre('marrón', 'miel')\n",
        "Tomas=Hijo('Rubio', 'verdes', 'larga')\n",
        "print(Tomas.ojos, Tomas.cejas, Tomas.cara)"
      ],
      "metadata": {
        "colab": {
          "base_uri": "https://localhost:8080/"
        },
        "id": "r6tWXfbHlDvu",
        "outputId": "cf0ff57d-fdc0-4a50-b438-9811a8ee56e9"
      },
      "execution_count": 19,
      "outputs": [
        {
          "output_type": "stream",
          "name": "stdout",
          "text": [
            "Rubio verdes larga\n"
          ]
        }
      ]
    },
    {
      "cell_type": "code",
      "source": [
        "class Abuelo():\n",
        "  def __init__(self, ojos, cejas):\n",
        "    self.ojos=ojos\n",
        "    self.cejas=cejas\n",
        "\n",
        "class Hijo2(Abuelo):\n",
        "  def __init__(self, ojos, cejas, cara):\n",
        "    super().__init__(ojos, cejas)\n",
        "    self.cara=cara"
      ],
      "metadata": {
        "id": "dnnTvjn7l-r9"
      },
      "execution_count": 30,
      "outputs": []
    },
    {
      "cell_type": "code",
      "source": [
        "Abuelo=Abuelo(\"negro\", 'marrón')\n",
        "Mateo=Hijo2('Marrón', 'verdes', 'gordita')"
      ],
      "metadata": {
        "id": "DbKeMQ2ymW4I"
      },
      "execution_count": 32,
      "outputs": []
    }
  ]
}